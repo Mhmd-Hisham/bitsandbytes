{
 "cells": [
  {
   "cell_type": "code",
   "execution_count": null,
   "id": "be63a5e5",
   "metadata": {},
   "outputs": [],
   "source": [
    "import pandas as pd\n",
    "import plotly.express as px"
   ]
  },
  {
   "cell_type": "code",
   "execution_count": null,
   "id": "9b6efdb6",
   "metadata": {},
   "outputs": [],
   "source": [
    "metadata_df = pd.read_csv(\"stress_test_metadata.csv\")\n",
    "cols = list(metadata_df.columns)[1:]\n",
    "metadata_df = metadata_df[cols]\n",
    "metadata_df"
   ]
  },
  {
   "cell_type": "code",
   "execution_count": null,
   "id": "973ab227",
   "metadata": {},
   "outputs": [],
   "source": [
    "def load_ncu_csv(path, metadata_df, keep_units=False):\n",
    "    df = pd.read_csv(path, encoding=\"utf-16\")\n",
    "    df[\"Kernel Name\"] = df[\"Kernel Name\"].apply(lambda x: str(x).split(\"<\")[0].replace(\"void\", \"\"))\n",
    "    cols = [\"Kernel Name\"] + METRICS_TO_KEEP\n",
    "    df = df[cols]\n",
    "    if not keep_units:\n",
    "        df = df.iloc[1:].reset_index(drop=True)\n",
    "        # convert from microseconds to seconds\n",
    "        df[\"gpu__time_duration_measured_user.avg\"] = df[\"gpu__time_duration_measured_user.avg\"].astype(float) * 1e-6\n",
    "    df[\"Blocksize\"] = metadata_df[\"blocksize\"]\n",
    "    df[\"QuantType\"] = metadata_df[\"quant_type\"]\n",
    "    for col in METRICS_TO_KEEP:\n",
    "        df[col] = df[col].apply(lambda x: str(x).replace(\",\", \"\")).astype(float)\n",
    "    return df\n",
    "\n",
    "\n",
    "baseline_csv_path = \"baseline_bnb_kernel_benchmark.csv\"\n",
    "improved_csv_path = \"improved_bnb_kernel_benchmark.csv\"\n",
    "\n",
    "df_improved = load_ncu_csv(improved_csv_path, metadata_df)\n",
    "df_improved[\"Version\"] = \"Improved\"\n",
    "\n",
    "df_baseline = load_ncu_csv(baseline_csv_path, metadata_df)\n",
    "df_baseline[\"Version\"] = \"Baseline\"\n",
    "df_baseline.head()"
   ]
  },
  {
   "cell_type": "code",
   "execution_count": null,
   "id": "a09c3c51",
   "metadata": {},
   "outputs": [],
   "source": [
    "agg_baseline = df_baseline.groupby([\"QuantType\", \"Kernel Name\", \"Blocksize\"])[METRICS_TO_KEEP].median()\n",
    "agg_baseline"
   ]
  },
  {
   "cell_type": "code",
   "execution_count": null,
   "id": "248da0ea",
   "metadata": {},
   "outputs": [],
   "source": [
    "agg_improved = df_improved.groupby([\"QuantType\", \"Kernel Name\", \"Blocksize\"])[METRICS_TO_KEEP].median()\n",
    "agg_improved"
   ]
  },
  {
   "cell_type": "code",
   "execution_count": null,
   "id": "a2cbc8c5",
   "metadata": {},
   "outputs": [],
   "source": [
    "df = pd.concat([df_baseline, df_improved])\n",
    "df"
   ]
  },
  {
   "cell_type": "code",
   "execution_count": null,
   "id": "5f8ca390",
   "metadata": {},
   "outputs": [],
   "source": [
    "agg_df = pd.concat([agg_improved.reset_index(), agg_baseline.reset_index()])\n",
    "\n",
    "agg_df[\"Version\"] = ([\"Improved\"] * agg_improved.shape[0]) + ([\"Baseline\"] * agg_baseline.shape[0])\n",
    "agg_df"
   ]
  },
  {
   "cell_type": "code",
   "execution_count": null,
   "id": "2a696505",
   "metadata": {},
   "outputs": [],
   "source": [
    "def plot(df, quant_type, metric):\n",
    "    custom_colors = [\"#1f77b4\", \"#ff7f0e\", \"#2ca02c\", \"#d62728\", \"#9467bd\"]\n",
    "    df = df[df[\"QuantType\"] == quant_type]\n",
    "\n",
    "    fig = px.bar(\n",
    "        df,\n",
    "        x=\"Blocksize\",\n",
    "        y=metric,\n",
    "        color=\"Version\",\n",
    "        facet_row=\"Kernel Name\",\n",
    "        barmode=\"group\",\n",
    "        title=\"Total latency by Block Size [100 iterations Sum of All Access Patterns]\",\n",
    "        color_discrete_sequence=custom_colors,\n",
    "        labels={\"Kernel Name\": \"\"},\n",
    "    )\n",
    "\n",
    "    # fig.add_annotation(\n",
    "    #     text=f\"Total Durationxx\",\n",
    "    #     xref=\"paper\", yref=\"paper\",\n",
    "    #     x=-0.1, y=0.5,\n",
    "    #     showarrow=False,\n",
    "    #     textangle=-90,\n",
    "    #     font=dict(size=14),\n",
    "    # )\n",
    "\n",
    "    # set discrete x-tick labels using unique blocksize values\n",
    "    blocksize_values = sorted(df[\"Blocksize\"].unique())\n",
    "    for axis in fig.layout:\n",
    "        if axis.startswith(\"xaxis\"):\n",
    "            fig.layout[axis].type = \"category\"\n",
    "            fig.layout[axis].tickmode = \"array\"\n",
    "            fig.layout[axis].tickvals = blocksize_values\n",
    "            fig.layout[axis].ticktext = [str(val) for val in blocksize_values]\n",
    "        # elif axis.startswith(\"yaxis\"):\n",
    "        #     fig.layout[axis].type = \"log\"\n",
    "\n",
    "    fig.update_yaxes(matches=None)\n",
    "    fig.update_layout(width=900, height=500)\n",
    "    fig.show()\n",
    "\n",
    "\n",
    "quant_type = \"fp4\"\n",
    "metric = \"gpu__time_duration_measured_user.avg\"\n",
    "plot(agg_df, quant_type, metric)"
   ]
  },
  {
   "cell_type": "code",
   "execution_count": null,
   "id": "89a1296d",
   "metadata": {},
   "outputs": [],
   "source": [
    "total_diff = (agg_improved - agg_baseline) / agg_baseline * 100\n",
    "# negate latency columns since in latency, less is better\n",
    "total_diff[\"gpu__time_duration_measured_user.avg\"] *= -1\n",
    "# negate n divergent branches since less is better\n",
    "total_diff[\"smsp__sass_branch_targets_threads_divergent.sum\"] *= -1\n",
    "\n",
    "# total_diff.columns = [\"Duration %\", \"Compute Throughput %\", \"Memory Throughput %\"]\n",
    "\n",
    "total_diff.round(3)"
   ]
  },
  {
   "cell_type": "code",
   "execution_count": null,
   "id": "3788e629",
   "metadata": {},
   "outputs": [],
   "source": [
    "agg_baseline2 = df_baseline.drop(columns=[\"Blocksize\", \"Version\"]).groupby([\"QuantType\", \"Kernel Name\"]).median()\n",
    "agg_improved2 = df_improved.drop(columns=[\"Blocksize\", \"Version\"]).groupby([\"QuantType\", \"Kernel Name\"]).median()\n",
    "\n",
    "overall_diff = (agg_improved2 - agg_baseline2) / agg_baseline2 * 100\n",
    "overall_diff[\"gpu__time_duration_measured_user.avg\"] *= -1\n",
    "overall_diff[\"smsp__sass_branch_targets_threads_divergent.sum\"] *= -1\n",
    "\n",
    "# overall_diff.columns = [\"Duration %\", \"Compute Throughput %\", \"Memory Throughput %\"]\n",
    "overall_diff.round(3)"
   ]
  }
 ],
 "metadata": {
  "kernelspec": {
   "display_name": "Python 3",
   "language": "python",
   "name": "python3"
  },
  "language_info": {
   "codemirror_mode": {
    "name": "ipython",
    "version": 3
   },
   "file_extension": ".py",
   "mimetype": "text/x-python",
   "name": "python",
   "nbconvert_exporter": "python",
   "pygments_lexer": "ipython3",
   "version": "3.9.5"
  }
 },
 "nbformat": 4,
 "nbformat_minor": 5
}

{
 "cells": [
  {
   "cell_type": "code",
   "execution_count": 1,
   "id": "be63a5e5",
   "metadata": {},
   "outputs": [],
   "source": [
    "import os\n",
    "\n",
    "import pandas as pd\n",
    "import plotly.express as px"
   ]
  },
  {
   "cell_type": "code",
   "execution_count": 2,
   "id": "ff3695fa",
   "metadata": {},
   "outputs": [
    {
     "data": {
      "text/plain": [
       "['baseline_results_run1.csv',\n",
       " 'baseline_results_run2.csv',\n",
       " 'baseline_results_run3.csv',\n",
       " 'improved_results_run1.csv',\n",
       " 'improved_results_run2.csv',\n",
       " 'improved_results_run3.csv',\n",
       " 'stress_test.py',\n",
       " 'stress_test_metadata.csv']"
      ]
     },
     "execution_count": 2,
     "metadata": {},
     "output_type": "execute_result"
    }
   ],
   "source": [
    "data_dir = \"stress_test_results_5090\"\n",
    "os.chdir(data_dir)\n",
    "os.listdir()"
   ]
  },
  {
   "cell_type": "code",
   "execution_count": 3,
   "id": "e26f4d3c",
   "metadata": {},
   "outputs": [
    {
     "data": {
      "text/html": [
       "<div>\n",
       "<style scoped>\n",
       "    .dataframe tbody tr th:only-of-type {\n",
       "        vertical-align: middle;\n",
       "    }\n",
       "\n",
       "    .dataframe tbody tr th {\n",
       "        vertical-align: top;\n",
       "    }\n",
       "\n",
       "    .dataframe thead th {\n",
       "        text-align: right;\n",
       "    }\n",
       "</style>\n",
       "<table border=\"1\" class=\"dataframe\">\n",
       "  <thead>\n",
       "    <tr style=\"text-align: right;\">\n",
       "      <th></th>\n",
       "      <th>dtype</th>\n",
       "      <th>quant_type</th>\n",
       "      <th>blocksize</th>\n",
       "      <th>tensor_shape</th>\n",
       "      <th>quantize_dequantize_latency</th>\n",
       "      <th>quantize_latency</th>\n",
       "      <th>dequantize_latency</th>\n",
       "      <th>version</th>\n",
       "    </tr>\n",
       "  </thead>\n",
       "  <tbody>\n",
       "    <tr>\n",
       "      <th>0</th>\n",
       "      <td>torch.float32</td>\n",
       "      <td>fp4</td>\n",
       "      <td>64</td>\n",
       "      <td>1024</td>\n",
       "      <td>0.015702</td>\n",
       "      <td>0.010598</td>\n",
       "      <td>0.003007</td>\n",
       "      <td>improved</td>\n",
       "    </tr>\n",
       "    <tr>\n",
       "      <th>1</th>\n",
       "      <td>torch.float32</td>\n",
       "      <td>fp4</td>\n",
       "      <td>64</td>\n",
       "      <td>2048</td>\n",
       "      <td>0.018287</td>\n",
       "      <td>0.013075</td>\n",
       "      <td>0.003388</td>\n",
       "      <td>improved</td>\n",
       "    </tr>\n",
       "    <tr>\n",
       "      <th>2</th>\n",
       "      <td>torch.float32</td>\n",
       "      <td>fp4</td>\n",
       "      <td>64</td>\n",
       "      <td>4096</td>\n",
       "      <td>0.029649</td>\n",
       "      <td>0.022338</td>\n",
       "      <td>0.005022</td>\n",
       "      <td>improved</td>\n",
       "    </tr>\n",
       "    <tr>\n",
       "      <th>3</th>\n",
       "      <td>torch.float32</td>\n",
       "      <td>fp4</td>\n",
       "      <td>64</td>\n",
       "      <td>8192</td>\n",
       "      <td>0.084350</td>\n",
       "      <td>0.059975</td>\n",
       "      <td>0.026488</td>\n",
       "      <td>improved</td>\n",
       "    </tr>\n",
       "    <tr>\n",
       "      <th>4</th>\n",
       "      <td>torch.float32</td>\n",
       "      <td>fp4</td>\n",
       "      <td>64</td>\n",
       "      <td>16384</td>\n",
       "      <td>0.300955</td>\n",
       "      <td>0.208527</td>\n",
       "      <td>0.092865</td>\n",
       "      <td>improved</td>\n",
       "    </tr>\n",
       "    <tr>\n",
       "      <th>...</th>\n",
       "      <td>...</td>\n",
       "      <td>...</td>\n",
       "      <td>...</td>\n",
       "      <td>...</td>\n",
       "      <td>...</td>\n",
       "      <td>...</td>\n",
       "      <td>...</td>\n",
       "      <td>...</td>\n",
       "    </tr>\n",
       "    <tr>\n",
       "      <th>415</th>\n",
       "      <td>torch.bfloat16</td>\n",
       "      <td>nf4</td>\n",
       "      <td>4096</td>\n",
       "      <td>1024</td>\n",
       "      <td>0.014979</td>\n",
       "      <td>0.009746</td>\n",
       "      <td>0.003112</td>\n",
       "      <td>baseline</td>\n",
       "    </tr>\n",
       "    <tr>\n",
       "      <th>416</th>\n",
       "      <td>torch.bfloat16</td>\n",
       "      <td>nf4</td>\n",
       "      <td>4096</td>\n",
       "      <td>2048</td>\n",
       "      <td>0.016262</td>\n",
       "      <td>0.010629</td>\n",
       "      <td>0.003444</td>\n",
       "      <td>baseline</td>\n",
       "    </tr>\n",
       "    <tr>\n",
       "      <th>417</th>\n",
       "      <td>torch.bfloat16</td>\n",
       "      <td>nf4</td>\n",
       "      <td>4096</td>\n",
       "      <td>4096</td>\n",
       "      <td>0.021122</td>\n",
       "      <td>0.014035</td>\n",
       "      <td>0.004827</td>\n",
       "      <td>baseline</td>\n",
       "    </tr>\n",
       "    <tr>\n",
       "      <th>418</th>\n",
       "      <td>torch.bfloat16</td>\n",
       "      <td>nf4</td>\n",
       "      <td>4096</td>\n",
       "      <td>8192</td>\n",
       "      <td>0.045369</td>\n",
       "      <td>0.030330</td>\n",
       "      <td>0.014679</td>\n",
       "      <td>baseline</td>\n",
       "    </tr>\n",
       "    <tr>\n",
       "      <th>419</th>\n",
       "      <td>torch.bfloat16</td>\n",
       "      <td>nf4</td>\n",
       "      <td>4096</td>\n",
       "      <td>16384</td>\n",
       "      <td>0.142413</td>\n",
       "      <td>0.090957</td>\n",
       "      <td>0.051153</td>\n",
       "      <td>baseline</td>\n",
       "    </tr>\n",
       "  </tbody>\n",
       "</table>\n",
       "<p>420 rows × 8 columns</p>\n",
       "</div>"
      ],
      "text/plain": [
       "              dtype quant_type  blocksize  tensor_shape  \\\n",
       "0     torch.float32        fp4         64          1024   \n",
       "1     torch.float32        fp4         64          2048   \n",
       "2     torch.float32        fp4         64          4096   \n",
       "3     torch.float32        fp4         64          8192   \n",
       "4     torch.float32        fp4         64         16384   \n",
       "..              ...        ...        ...           ...   \n",
       "415  torch.bfloat16        nf4       4096          1024   \n",
       "416  torch.bfloat16        nf4       4096          2048   \n",
       "417  torch.bfloat16        nf4       4096          4096   \n",
       "418  torch.bfloat16        nf4       4096          8192   \n",
       "419  torch.bfloat16        nf4       4096         16384   \n",
       "\n",
       "     quantize_dequantize_latency  quantize_latency  dequantize_latency  \\\n",
       "0                       0.015702          0.010598            0.003007   \n",
       "1                       0.018287          0.013075            0.003388   \n",
       "2                       0.029649          0.022338            0.005022   \n",
       "3                       0.084350          0.059975            0.026488   \n",
       "4                       0.300955          0.208527            0.092865   \n",
       "..                           ...               ...                 ...   \n",
       "415                     0.014979          0.009746            0.003112   \n",
       "416                     0.016262          0.010629            0.003444   \n",
       "417                     0.021122          0.014035            0.004827   \n",
       "418                     0.045369          0.030330            0.014679   \n",
       "419                     0.142413          0.090957            0.051153   \n",
       "\n",
       "      version  \n",
       "0    improved  \n",
       "1    improved  \n",
       "2    improved  \n",
       "3    improved  \n",
       "4    improved  \n",
       "..        ...  \n",
       "415  baseline  \n",
       "416  baseline  \n",
       "417  baseline  \n",
       "418  baseline  \n",
       "419  baseline  \n",
       "\n",
       "[420 rows x 8 columns]"
      ]
     },
     "execution_count": 3,
     "metadata": {},
     "output_type": "execute_result"
    }
   ],
   "source": [
    "def load_df(path):\n",
    "    df = pd.read_csv(path)\n",
    "    df.drop(columns=[\"Unnamed: 0\"], inplace=True)\n",
    "    return df\n",
    "\n",
    "\n",
    "run = \"run1\"\n",
    "\n",
    "improved_path = f\"improved_results_{run}.csv\"\n",
    "baseline_path = f\"baseline_results_{run}.csv\"\n",
    "\n",
    "df_improved = load_df(improved_path)\n",
    "df_improved[\"version\"] = \"improved\"\n",
    "\n",
    "df_baseline = load_df(baseline_path)\n",
    "df_baseline[\"version\"] = \"baseline\"\n",
    "\n",
    "# df = df_improved\n",
    "df = pd.concat([df_improved, df_baseline], ignore_index=True)\n",
    "df"
   ]
  },
  {
   "cell_type": "code",
   "execution_count": 4,
   "id": "62f7fb87",
   "metadata": {},
   "outputs": [],
   "source": [
    "# # make a 3d plot with x as blocksize, y as tensor_shape, z as mean_quant_time, color by version\n",
    "# fig = px.scatter_3d(\n",
    "#     df, x=\"blocksize\", y=\"tensor_shape\", z=\"mean_quant_time\", color=\"version\",\n",
    "#     title=\"Stress Test Results\",\n",
    "#     labels={\"blocksize\": \"Block Size\", \"tensor_shape\": \"Tensor Shape\", \"mean_quant_time\": \"Mean Quant Time\"},\n",
    "# )\n",
    "\n",
    "# # set the actual x and y axis labels\n",
    "# fig.update_layout(\n",
    "#     scene=dict(\n",
    "#         xaxis_title=\"Block Size\",\n",
    "#         yaxis_title=\"Tensor Shape\",\n",
    "#         zaxis_title=\"Mean Quant Time (s)\",\n",
    "#     ),\n",
    "#     legend_title_text=\"Version\"\n",
    "# )\n",
    "# # set the tick labels to be the exact values\n",
    "# fig.update_layout(\n",
    "#     scene=dict(\n",
    "#         xaxis=dict(tickmode='array', tickvals=df.blocksize.unique()),\n",
    "#         yaxis=dict(tickmode='array', tickvals=df.tensor_shape.unique()),\n",
    "#     )\n",
    "# )\n",
    "\n",
    "# # set xaxis and yaxis to be log scale\n",
    "# fig.update_layout(\n",
    "#     scene=dict(\n",
    "#         xaxis=dict(type='log'),\n",
    "#         yaxis=dict(type='log'),\n",
    "#     )\n",
    "# )\n",
    "\n",
    "# fig.update_traces(marker=dict(size=5))\n",
    "# fig.show()\n"
   ]
  },
  {
   "cell_type": "code",
   "execution_count": 5,
   "id": "7fb27b941602401d91542211134fc71a",
   "metadata": {},
   "outputs": [
    {
     "data": {
      "application/vnd.plotly.v1+json": {
       "config": {
        "plotlyServerURL": "https://plot.ly"
       },
       "data": [
        {
         "hovertemplate": "version=improved<br>dim=1024<br>quant_type=fp4<br>Block Size=%{x}<br>=%{y}<extra></extra>",
         "legendgroup": "improved",
         "line": {
          "color": "#636efa",
          "dash": "solid"
         },
         "marker": {
          "symbol": "circle"
         },
         "mode": "lines",
         "name": "improved",
         "orientation": "v",
         "showlegend": true,
         "type": "scatter",
         "x": [
          64,
          128,
          256,
          512,
          1024,
          2048,
          4096
         ],
         "xaxis": "x9",
         "y": [
          0.0157018119934946,
          0.0151932970038615,
          0.0150147489912342,
          0.0150114529969869,
          0.0149317739997059,
          0.0150112629926297,
          0.0150818099937168
         ],
         "yaxis": "y9"
        },
        {
         "hovertemplate": "version=improved<br>dim=1024<br>quant_type=nf4<br>Block Size=%{x}<br>=%{y}<extra></extra>",
         "legendgroup": "improved",
         "line": {
          "color": "#636efa",
          "dash": "solid"
         },
         "marker": {
          "symbol": "circle"
         },
         "mode": "lines",
         "name": "improved",
         "orientation": "v",
         "showlegend": false,
         "type": "scatter",
         "x": [
          64,
          128,
          256,
          512,
          1024,
          2048,
          4096
         ],
         "xaxis": "x10",
         "y": [
          0.0152303229988319,
          0.0148916129983263,
          0.0146209350059507,
          0.0147216879995539,
          0.0146240400063106,
          0.0146025380090577,
          0.0148198340029921
         ],
         "yaxis": "y10"
        },
        {
         "hovertemplate": "version=improved<br>dim=2048<br>quant_type=fp4<br>Block Size=%{x}<br>=%{y}<extra></extra>",
         "legendgroup": "improved",
         "line": {
          "color": "#636efa",
          "dash": "solid"
         },
         "marker": {
          "symbol": "circle"
         },
         "mode": "lines",
         "name": "improved",
         "orientation": "v",
         "showlegend": false,
         "type": "scatter",
         "x": [
          64,
          128,
          256,
          512,
          1024,
          2048,
          4096
         ],
         "xaxis": "x7",
         "y": [
          0.0182866719987941,
          0.0167803460062714,
          0.0161217249988112,
          0.0160996710037579,
          0.0158440559898735,
          0.0158494339993922,
          0.0163593420002143
         ],
         "yaxis": "y7"
        },
        {
         "hovertemplate": "version=improved<br>dim=2048<br>quant_type=nf4<br>Block Size=%{x}<br>=%{y}<extra></extra>",
         "legendgroup": "improved",
         "line": {
          "color": "#636efa",
          "dash": "solid"
         },
         "marker": {
          "symbol": "circle"
         },
         "mode": "lines",
         "name": "improved",
         "orientation": "v",
         "showlegend": false,
         "type": "scatter",
         "x": [
          64,
          128,
          256,
          512,
          1024,
          2048,
          4096
         ],
         "xaxis": "x8",
         "y": [
          0.0181909789971541,
          0.0164200730068841,
          0.0157810520031489,
          0.0160876629961421,
          0.0155912860063835,
          0.0157042859937064,
          0.0160181679966626
         ],
         "yaxis": "y8"
        },
        {
         "hovertemplate": "version=improved<br>dim=4096<br>quant_type=fp4<br>Block Size=%{x}<br>=%{y}<extra></extra>",
         "legendgroup": "improved",
         "line": {
          "color": "#636efa",
          "dash": "solid"
         },
         "marker": {
          "symbol": "circle"
         },
         "mode": "lines",
         "name": "improved",
         "orientation": "v",
         "showlegend": false,
         "type": "scatter",
         "x": [
          64,
          128,
          256,
          512,
          1024,
          2048,
          4096
         ],
         "xaxis": "x5",
         "y": [
          0.0296486430015647,
          0.0233794880041386,
          0.0225295690033817,
          0.0224702190025709,
          0.0223597529984544,
          0.0223398329981137,
          0.0238774879981065
         ],
         "yaxis": "y5"
        },
        {
         "hovertemplate": "version=improved<br>dim=4096<br>quant_type=nf4<br>Block Size=%{x}<br>=%{y}<extra></extra>",
         "legendgroup": "improved",
         "line": {
          "color": "#636efa",
          "dash": "solid"
         },
         "marker": {
          "symbol": "circle"
         },
         "mode": "lines",
         "name": "improved",
         "orientation": "v",
         "showlegend": false,
         "type": "scatter",
         "x": [
          64,
          128,
          256,
          512,
          1024,
          2048,
          4096
         ],
         "xaxis": "x6",
         "y": [
          0.0292457470059162,
          0.0230406480113742,
          0.0220431869965977,
          0.0222114399948623,
          0.0218690650071948,
          0.0219860810029786,
          0.0231932579918066
         ],
         "yaxis": "y6"
        },
        {
         "hovertemplate": "version=improved<br>dim=8192<br>quant_type=fp4<br>Block Size=%{x}<br>=%{y}<extra></extra>",
         "legendgroup": "improved",
         "line": {
          "color": "#636efa",
          "dash": "solid"
         },
         "marker": {
          "symbol": "circle"
         },
         "mode": "lines",
         "name": "improved",
         "orientation": "v",
         "showlegend": false,
         "type": "scatter",
         "x": [
          64,
          128,
          256,
          512,
          1024,
          2048,
          4096
         ],
         "xaxis": "x3",
         "y": [
          0.0843496729939943,
          0.0586114040052052,
          0.0549277099926257,
          0.0548995380086125,
          0.0545277779892785,
          0.0545047039922792,
          0.0557425760052865
         ],
         "yaxis": "y3"
        },
        {
         "hovertemplate": "version=improved<br>dim=8192<br>quant_type=nf4<br>Block Size=%{x}<br>=%{y}<extra></extra>",
         "legendgroup": "improved",
         "line": {
          "color": "#636efa",
          "dash": "solid"
         },
         "marker": {
          "symbol": "circle"
         },
         "mode": "lines",
         "name": "improved",
         "orientation": "v",
         "showlegend": false,
         "type": "scatter",
         "x": [
          64,
          128,
          256,
          512,
          1024,
          2048,
          4096
         ],
         "xaxis": "x4",
         "y": [
          0.0840423500048928,
          0.0588414110097801,
          0.0548825320001924,
          0.0550949519965797,
          0.0545018990087555,
          0.0548703329986892,
          0.0576159359916346
         ],
         "yaxis": "y4"
        },
        {
         "hovertemplate": "version=improved<br>dim=16384<br>quant_type=fp4<br>Block Size=%{x}<br>=%{y}<extra></extra>",
         "legendgroup": "improved",
         "line": {
          "color": "#636efa",
          "dash": "solid"
         },
         "marker": {
          "symbol": "circle"
         },
         "mode": "lines",
         "name": "improved",
         "orientation": "v",
         "showlegend": false,
         "type": "scatter",
         "x": [
          64,
          128,
          256,
          512,
          1024,
          2048,
          4096
         ],
         "xaxis": "x",
         "y": [
          0.3009549389971653,
          0.1992688739992445,
          0.1822646419896045,
          0.1789859870041255,
          0.1774865400075214,
          0.1783708010043483,
          0.1814320880075683
         ],
         "yaxis": "y"
        },
        {
         "hovertemplate": "version=improved<br>dim=16384<br>quant_type=nf4<br>Block Size=%{x}<br>=%{y}<extra></extra>",
         "legendgroup": "improved",
         "line": {
          "color": "#636efa",
          "dash": "solid"
         },
         "marker": {
          "symbol": "circle"
         },
         "mode": "lines",
         "name": "improved",
         "orientation": "v",
         "showlegend": false,
         "type": "scatter",
         "x": [
          64,
          128,
          256,
          512,
          1024,
          2048,
          4096
         ],
         "xaxis": "x2",
         "y": [
          0.3012520060001407,
          0.1999955079954816,
          0.1795104460034053,
          0.1817408229981083,
          0.1788592559896642,
          0.1769718150026165,
          0.1927648949931608
         ],
         "yaxis": "y2"
        },
        {
         "hovertemplate": "version=baseline<br>dim=1024<br>quant_type=fp4<br>Block Size=%{x}<br>=%{y}<extra></extra>",
         "legendgroup": "baseline",
         "line": {
          "color": "#EF553B",
          "dash": "solid"
         },
         "marker": {
          "symbol": "circle"
         },
         "mode": "lines",
         "name": "baseline",
         "orientation": "v",
         "showlegend": true,
         "type": "scatter",
         "x": [
          64,
          128,
          256,
          512,
          1024,
          2048,
          4096
         ],
         "xaxis": "x9",
         "y": [
          0.0160393130063312,
          0.0153099370072595,
          0.0151599529926897,
          0.0151176390063483,
          0.0151606239960528,
          0.0151795119891176,
          0.0151319199940189
         ],
         "yaxis": "y9"
        },
        {
         "hovertemplate": "version=baseline<br>dim=1024<br>quant_type=nf4<br>Block Size=%{x}<br>=%{y}<extra></extra>",
         "legendgroup": "baseline",
         "line": {
          "color": "#EF553B",
          "dash": "solid"
         },
         "marker": {
          "symbol": "circle"
         },
         "mode": "lines",
         "name": "baseline",
         "orientation": "v",
         "showlegend": false,
         "type": "scatter",
         "x": [
          64,
          128,
          256,
          512,
          1024,
          2048,
          4096
         ],
         "xaxis": "x10",
         "y": [
          0.0158047820004867,
          0.0155154870008118,
          0.0153004750027321,
          0.0152556570101296,
          0.0152601630106801,
          0.0152213149995077,
          0.0152484360005473
         ],
         "yaxis": "y10"
        },
        {
         "hovertemplate": "version=baseline<br>dim=2048<br>quant_type=fp4<br>Block Size=%{x}<br>=%{y}<extra></extra>",
         "legendgroup": "baseline",
         "line": {
          "color": "#EF553B",
          "dash": "solid"
         },
         "marker": {
          "symbol": "circle"
         },
         "mode": "lines",
         "name": "baseline",
         "orientation": "v",
         "showlegend": false,
         "type": "scatter",
         "x": [
          64,
          128,
          256,
          512,
          1024,
          2048,
          4096
         ],
         "xaxis": "x7",
         "y": [
          0.0183643460040912,
          0.0167573420039843,
          0.0161359990015625,
          0.0160918119945563,
          0.0159214870072901,
          0.015984440993634,
          0.0164470160088967
         ],
         "yaxis": "y7"
        },
        {
         "hovertemplate": "version=baseline<br>dim=2048<br>quant_type=nf4<br>Block Size=%{x}<br>=%{y}<extra></extra>",
         "legendgroup": "baseline",
         "line": {
          "color": "#EF553B",
          "dash": "solid"
         },
         "marker": {
          "symbol": "circle"
         },
         "mode": "lines",
         "name": "baseline",
         "orientation": "v",
         "showlegend": false,
         "type": "scatter",
         "x": [
          64,
          128,
          256,
          512,
          1024,
          2048,
          4096
         ],
         "xaxis": "x8",
         "y": [
          0.0187358039984246,
          0.0170470980083337,
          0.0163814480038126,
          0.0166285890009021,
          0.0161384730017744,
          0.0162310519954189,
          0.016695760001312
         ],
         "yaxis": "y8"
        },
        {
         "hovertemplate": "version=baseline<br>dim=4096<br>quant_type=fp4<br>Block Size=%{x}<br>=%{y}<extra></extra>",
         "legendgroup": "baseline",
         "line": {
          "color": "#EF553B",
          "dash": "solid"
         },
         "marker": {
          "symbol": "circle"
         },
         "mode": "lines",
         "name": "baseline",
         "orientation": "v",
         "showlegend": false,
         "type": "scatter",
         "x": [
          64,
          128,
          256,
          512,
          1024,
          2048,
          4096
         ],
         "xaxis": "x5",
         "y": [
          0.0296650410018628,
          0.0235833360056858,
          0.0226255370071157,
          0.0226851970073767,
          0.0224868490040535,
          0.0224117469915654,
          0.0236404320021392
         ],
         "yaxis": "y5"
        },
        {
         "hovertemplate": "version=baseline<br>dim=4096<br>quant_type=nf4<br>Block Size=%{x}<br>=%{y}<extra></extra>",
         "legendgroup": "baseline",
         "line": {
          "color": "#EF553B",
          "dash": "solid"
         },
         "marker": {
          "symbol": "circle"
         },
         "mode": "lines",
         "name": "baseline",
         "orientation": "v",
         "showlegend": false,
         "type": "scatter",
         "x": [
          64,
          128,
          256,
          512,
          1024,
          2048,
          4096
         ],
         "xaxis": "x6",
         "y": [
          0.0301588839938631,
          0.0238058009999804,
          0.0229056079988367,
          0.022987781005213,
          0.0226561640010913,
          0.0226997989957453,
          0.0236892160028219
         ],
         "yaxis": "y6"
        },
        {
         "hovertemplate": "version=baseline<br>dim=8192<br>quant_type=fp4<br>Block Size=%{x}<br>=%{y}<extra></extra>",
         "legendgroup": "baseline",
         "line": {
          "color": "#EF553B",
          "dash": "solid"
         },
         "marker": {
          "symbol": "circle"
         },
         "mode": "lines",
         "name": "baseline",
         "orientation": "v",
         "showlegend": false,
         "type": "scatter",
         "x": [
          64,
          128,
          256,
          512,
          1024,
          2048,
          4096
         ],
         "xaxis": "x3",
         "y": [
          0.0842020640120608,
          0.0588979640015168,
          0.0555376069969497,
          0.0549466380034573,
          0.0546426520013483,
          0.0548081609886139,
          0.0565852110012201
         ],
         "yaxis": "y3"
        },
        {
         "hovertemplate": "version=baseline<br>dim=8192<br>quant_type=nf4<br>Block Size=%{x}<br>=%{y}<extra></extra>",
         "legendgroup": "baseline",
         "line": {
          "color": "#EF553B",
          "dash": "solid"
         },
         "marker": {
          "symbol": "circle"
         },
         "mode": "lines",
         "name": "baseline",
         "orientation": "v",
         "showlegend": false,
         "type": "scatter",
         "x": [
          64,
          128,
          256,
          512,
          1024,
          2048,
          4096
         ],
         "xaxis": "x4",
         "y": [
          0.0844880959921283,
          0.0591743609984405,
          0.0549566949921427,
          0.0548888430057559,
          0.0545444860035786,
          0.0545617620082339,
          0.0571619580005062
         ],
         "yaxis": "y4"
        },
        {
         "hovertemplate": "version=baseline<br>dim=16384<br>quant_type=fp4<br>Block Size=%{x}<br>=%{y}<extra></extra>",
         "legendgroup": "baseline",
         "line": {
          "color": "#EF553B",
          "dash": "solid"
         },
         "marker": {
          "symbol": "circle"
         },
         "mode": "lines",
         "name": "baseline",
         "orientation": "v",
         "showlegend": false,
         "type": "scatter",
         "x": [
          64,
          128,
          256,
          512,
          1024,
          2048,
          4096
         ],
         "xaxis": "x",
         "y": [
          0.3010886119882343,
          0.1995870919927256,
          0.1795706940029049,
          0.1803036159981275,
          0.1773222780029755,
          0.1793950720020802,
          0.186224630990182
         ],
         "yaxis": "y"
        },
        {
         "hovertemplate": "version=baseline<br>dim=16384<br>quant_type=nf4<br>Block Size=%{x}<br>=%{y}<extra></extra>",
         "legendgroup": "baseline",
         "line": {
          "color": "#EF553B",
          "dash": "solid"
         },
         "marker": {
          "symbol": "circle"
         },
         "mode": "lines",
         "name": "baseline",
         "orientation": "v",
         "showlegend": false,
         "type": "scatter",
         "x": [
          64,
          128,
          256,
          512,
          1024,
          2048,
          4096
         ],
         "xaxis": "x2",
         "y": [
          0.3011743469978682,
          0.2006032919889548,
          0.1776706139935413,
          0.1794113089999882,
          0.1757785130030242,
          0.1769141390104778,
          0.1888044299994362
         ],
         "yaxis": "y2"
        }
       ],
       "layout": {
        "annotations": [
         {
          "showarrow": false,
          "text": "quant_type=fp4",
          "x": 0.24,
          "xanchor": "center",
          "xref": "paper",
          "y": 1,
          "yanchor": "bottom",
          "yref": "paper"
         },
         {
          "showarrow": false,
          "text": "quant_type=nf4",
          "x": 0.74,
          "xanchor": "center",
          "xref": "paper",
          "y": 1,
          "yanchor": "bottom",
          "yref": "paper"
         },
         {
          "showarrow": false,
          "text": "dim=16384",
          "textangle": 90,
          "x": 0.98,
          "xanchor": "left",
          "xref": "paper",
          "y": 0.08800000000000001,
          "yanchor": "middle",
          "yref": "paper"
         },
         {
          "showarrow": false,
          "text": "dim=8192",
          "textangle": 90,
          "x": 0.98,
          "xanchor": "left",
          "xref": "paper",
          "y": 0.29400000000000004,
          "yanchor": "middle",
          "yref": "paper"
         },
         {
          "showarrow": false,
          "text": "dim=4096",
          "textangle": 90,
          "x": 0.98,
          "xanchor": "left",
          "xref": "paper",
          "y": 0.5,
          "yanchor": "middle",
          "yref": "paper"
         },
         {
          "showarrow": false,
          "text": "dim=2048",
          "textangle": 90,
          "x": 0.98,
          "xanchor": "left",
          "xref": "paper",
          "y": 0.706,
          "yanchor": "middle",
          "yref": "paper"
         },
         {
          "showarrow": false,
          "text": "dim=1024",
          "textangle": 90,
          "x": 0.98,
          "xanchor": "left",
          "xref": "paper",
          "y": 0.912,
          "yanchor": "middle",
          "yref": "paper"
         },
         {
          "font": {
           "size": 14
          },
          "showarrow": false,
          "text": "Total quantize_dequantize_latency Time (s)",
          "textangle": -90,
          "x": -0.125,
          "xref": "paper",
          "y": 0.5,
          "yref": "paper"
         }
        ],
        "height": 700,
        "legend": {
         "title": {
          "text": "version"
         },
         "tracegroupgap": 0
        },
        "template": {
         "data": {
          "bar": [
           {
            "error_x": {
             "color": "#2a3f5f"
            },
            "error_y": {
             "color": "#2a3f5f"
            },
            "marker": {
             "line": {
              "color": "#E5ECF6",
              "width": 0.5
             },
             "pattern": {
              "fillmode": "overlay",
              "size": 10,
              "solidity": 0.2
             }
            },
            "type": "bar"
           }
          ],
          "barpolar": [
           {
            "marker": {
             "line": {
              "color": "#E5ECF6",
              "width": 0.5
             },
             "pattern": {
              "fillmode": "overlay",
              "size": 10,
              "solidity": 0.2
             }
            },
            "type": "barpolar"
           }
          ],
          "carpet": [
           {
            "aaxis": {
             "endlinecolor": "#2a3f5f",
             "gridcolor": "white",
             "linecolor": "white",
             "minorgridcolor": "white",
             "startlinecolor": "#2a3f5f"
            },
            "baxis": {
             "endlinecolor": "#2a3f5f",
             "gridcolor": "white",
             "linecolor": "white",
             "minorgridcolor": "white",
             "startlinecolor": "#2a3f5f"
            },
            "type": "carpet"
           }
          ],
          "choropleth": [
           {
            "colorbar": {
             "outlinewidth": 0,
             "ticks": ""
            },
            "type": "choropleth"
           }
          ],
          "contour": [
           {
            "colorbar": {
             "outlinewidth": 0,
             "ticks": ""
            },
            "colorscale": [
             [
              0,
              "#0d0887"
             ],
             [
              0.1111111111111111,
              "#46039f"
             ],
             [
              0.2222222222222222,
              "#7201a8"
             ],
             [
              0.3333333333333333,
              "#9c179e"
             ],
             [
              0.4444444444444444,
              "#bd3786"
             ],
             [
              0.5555555555555556,
              "#d8576b"
             ],
             [
              0.6666666666666666,
              "#ed7953"
             ],
             [
              0.7777777777777778,
              "#fb9f3a"
             ],
             [
              0.8888888888888888,
              "#fdca26"
             ],
             [
              1,
              "#f0f921"
             ]
            ],
            "type": "contour"
           }
          ],
          "contourcarpet": [
           {
            "colorbar": {
             "outlinewidth": 0,
             "ticks": ""
            },
            "type": "contourcarpet"
           }
          ],
          "heatmap": [
           {
            "colorbar": {
             "outlinewidth": 0,
             "ticks": ""
            },
            "colorscale": [
             [
              0,
              "#0d0887"
             ],
             [
              0.1111111111111111,
              "#46039f"
             ],
             [
              0.2222222222222222,
              "#7201a8"
             ],
             [
              0.3333333333333333,
              "#9c179e"
             ],
             [
              0.4444444444444444,
              "#bd3786"
             ],
             [
              0.5555555555555556,
              "#d8576b"
             ],
             [
              0.6666666666666666,
              "#ed7953"
             ],
             [
              0.7777777777777778,
              "#fb9f3a"
             ],
             [
              0.8888888888888888,
              "#fdca26"
             ],
             [
              1,
              "#f0f921"
             ]
            ],
            "type": "heatmap"
           }
          ],
          "heatmapgl": [
           {
            "colorbar": {
             "outlinewidth": 0,
             "ticks": ""
            },
            "colorscale": [
             [
              0,
              "#0d0887"
             ],
             [
              0.1111111111111111,
              "#46039f"
             ],
             [
              0.2222222222222222,
              "#7201a8"
             ],
             [
              0.3333333333333333,
              "#9c179e"
             ],
             [
              0.4444444444444444,
              "#bd3786"
             ],
             [
              0.5555555555555556,
              "#d8576b"
             ],
             [
              0.6666666666666666,
              "#ed7953"
             ],
             [
              0.7777777777777778,
              "#fb9f3a"
             ],
             [
              0.8888888888888888,
              "#fdca26"
             ],
             [
              1,
              "#f0f921"
             ]
            ],
            "type": "heatmapgl"
           }
          ],
          "histogram": [
           {
            "marker": {
             "pattern": {
              "fillmode": "overlay",
              "size": 10,
              "solidity": 0.2
             }
            },
            "type": "histogram"
           }
          ],
          "histogram2d": [
           {
            "colorbar": {
             "outlinewidth": 0,
             "ticks": ""
            },
            "colorscale": [
             [
              0,
              "#0d0887"
             ],
             [
              0.1111111111111111,
              "#46039f"
             ],
             [
              0.2222222222222222,
              "#7201a8"
             ],
             [
              0.3333333333333333,
              "#9c179e"
             ],
             [
              0.4444444444444444,
              "#bd3786"
             ],
             [
              0.5555555555555556,
              "#d8576b"
             ],
             [
              0.6666666666666666,
              "#ed7953"
             ],
             [
              0.7777777777777778,
              "#fb9f3a"
             ],
             [
              0.8888888888888888,
              "#fdca26"
             ],
             [
              1,
              "#f0f921"
             ]
            ],
            "type": "histogram2d"
           }
          ],
          "histogram2dcontour": [
           {
            "colorbar": {
             "outlinewidth": 0,
             "ticks": ""
            },
            "colorscale": [
             [
              0,
              "#0d0887"
             ],
             [
              0.1111111111111111,
              "#46039f"
             ],
             [
              0.2222222222222222,
              "#7201a8"
             ],
             [
              0.3333333333333333,
              "#9c179e"
             ],
             [
              0.4444444444444444,
              "#bd3786"
             ],
             [
              0.5555555555555556,
              "#d8576b"
             ],
             [
              0.6666666666666666,
              "#ed7953"
             ],
             [
              0.7777777777777778,
              "#fb9f3a"
             ],
             [
              0.8888888888888888,
              "#fdca26"
             ],
             [
              1,
              "#f0f921"
             ]
            ],
            "type": "histogram2dcontour"
           }
          ],
          "mesh3d": [
           {
            "colorbar": {
             "outlinewidth": 0,
             "ticks": ""
            },
            "type": "mesh3d"
           }
          ],
          "parcoords": [
           {
            "line": {
             "colorbar": {
              "outlinewidth": 0,
              "ticks": ""
             }
            },
            "type": "parcoords"
           }
          ],
          "pie": [
           {
            "automargin": true,
            "type": "pie"
           }
          ],
          "scatter": [
           {
            "fillpattern": {
             "fillmode": "overlay",
             "size": 10,
             "solidity": 0.2
            },
            "type": "scatter"
           }
          ],
          "scatter3d": [
           {
            "line": {
             "colorbar": {
              "outlinewidth": 0,
              "ticks": ""
             }
            },
            "marker": {
             "colorbar": {
              "outlinewidth": 0,
              "ticks": ""
             }
            },
            "type": "scatter3d"
           }
          ],
          "scattercarpet": [
           {
            "marker": {
             "colorbar": {
              "outlinewidth": 0,
              "ticks": ""
             }
            },
            "type": "scattercarpet"
           }
          ],
          "scattergeo": [
           {
            "marker": {
             "colorbar": {
              "outlinewidth": 0,
              "ticks": ""
             }
            },
            "type": "scattergeo"
           }
          ],
          "scattergl": [
           {
            "marker": {
             "colorbar": {
              "outlinewidth": 0,
              "ticks": ""
             }
            },
            "type": "scattergl"
           }
          ],
          "scattermapbox": [
           {
            "marker": {
             "colorbar": {
              "outlinewidth": 0,
              "ticks": ""
             }
            },
            "type": "scattermapbox"
           }
          ],
          "scatterpolar": [
           {
            "marker": {
             "colorbar": {
              "outlinewidth": 0,
              "ticks": ""
             }
            },
            "type": "scatterpolar"
           }
          ],
          "scatterpolargl": [
           {
            "marker": {
             "colorbar": {
              "outlinewidth": 0,
              "ticks": ""
             }
            },
            "type": "scatterpolargl"
           }
          ],
          "scatterternary": [
           {
            "marker": {
             "colorbar": {
              "outlinewidth": 0,
              "ticks": ""
             }
            },
            "type": "scatterternary"
           }
          ],
          "surface": [
           {
            "colorbar": {
             "outlinewidth": 0,
             "ticks": ""
            },
            "colorscale": [
             [
              0,
              "#0d0887"
             ],
             [
              0.1111111111111111,
              "#46039f"
             ],
             [
              0.2222222222222222,
              "#7201a8"
             ],
             [
              0.3333333333333333,
              "#9c179e"
             ],
             [
              0.4444444444444444,
              "#bd3786"
             ],
             [
              0.5555555555555556,
              "#d8576b"
             ],
             [
              0.6666666666666666,
              "#ed7953"
             ],
             [
              0.7777777777777778,
              "#fb9f3a"
             ],
             [
              0.8888888888888888,
              "#fdca26"
             ],
             [
              1,
              "#f0f921"
             ]
            ],
            "type": "surface"
           }
          ],
          "table": [
           {
            "cells": {
             "fill": {
              "color": "#EBF0F8"
             },
             "line": {
              "color": "white"
             }
            },
            "header": {
             "fill": {
              "color": "#C8D4E3"
             },
             "line": {
              "color": "white"
             }
            },
            "type": "table"
           }
          ]
         },
         "layout": {
          "annotationdefaults": {
           "arrowcolor": "#2a3f5f",
           "arrowhead": 0,
           "arrowwidth": 1
          },
          "autotypenumbers": "strict",
          "coloraxis": {
           "colorbar": {
            "outlinewidth": 0,
            "ticks": ""
           }
          },
          "colorscale": {
           "diverging": [
            [
             0,
             "#8e0152"
            ],
            [
             0.1,
             "#c51b7d"
            ],
            [
             0.2,
             "#de77ae"
            ],
            [
             0.3,
             "#f1b6da"
            ],
            [
             0.4,
             "#fde0ef"
            ],
            [
             0.5,
             "#f7f7f7"
            ],
            [
             0.6,
             "#e6f5d0"
            ],
            [
             0.7,
             "#b8e186"
            ],
            [
             0.8,
             "#7fbc41"
            ],
            [
             0.9,
             "#4d9221"
            ],
            [
             1,
             "#276419"
            ]
           ],
           "sequential": [
            [
             0,
             "#0d0887"
            ],
            [
             0.1111111111111111,
             "#46039f"
            ],
            [
             0.2222222222222222,
             "#7201a8"
            ],
            [
             0.3333333333333333,
             "#9c179e"
            ],
            [
             0.4444444444444444,
             "#bd3786"
            ],
            [
             0.5555555555555556,
             "#d8576b"
            ],
            [
             0.6666666666666666,
             "#ed7953"
            ],
            [
             0.7777777777777778,
             "#fb9f3a"
            ],
            [
             0.8888888888888888,
             "#fdca26"
            ],
            [
             1,
             "#f0f921"
            ]
           ],
           "sequentialminus": [
            [
             0,
             "#0d0887"
            ],
            [
             0.1111111111111111,
             "#46039f"
            ],
            [
             0.2222222222222222,
             "#7201a8"
            ],
            [
             0.3333333333333333,
             "#9c179e"
            ],
            [
             0.4444444444444444,
             "#bd3786"
            ],
            [
             0.5555555555555556,
             "#d8576b"
            ],
            [
             0.6666666666666666,
             "#ed7953"
            ],
            [
             0.7777777777777778,
             "#fb9f3a"
            ],
            [
             0.8888888888888888,
             "#fdca26"
            ],
            [
             1,
             "#f0f921"
            ]
           ]
          },
          "colorway": [
           "#636efa",
           "#EF553B",
           "#00cc96",
           "#ab63fa",
           "#FFA15A",
           "#19d3f3",
           "#FF6692",
           "#B6E880",
           "#FF97FF",
           "#FECB52"
          ],
          "font": {
           "color": "#2a3f5f"
          },
          "geo": {
           "bgcolor": "white",
           "lakecolor": "white",
           "landcolor": "#E5ECF6",
           "showlakes": true,
           "showland": true,
           "subunitcolor": "white"
          },
          "hoverlabel": {
           "align": "left"
          },
          "hovermode": "closest",
          "mapbox": {
           "style": "light"
          },
          "paper_bgcolor": "white",
          "plot_bgcolor": "#E5ECF6",
          "polar": {
           "angularaxis": {
            "gridcolor": "white",
            "linecolor": "white",
            "ticks": ""
           },
           "bgcolor": "#E5ECF6",
           "radialaxis": {
            "gridcolor": "white",
            "linecolor": "white",
            "ticks": ""
           }
          },
          "scene": {
           "xaxis": {
            "backgroundcolor": "#E5ECF6",
            "gridcolor": "white",
            "gridwidth": 2,
            "linecolor": "white",
            "showbackground": true,
            "ticks": "",
            "zerolinecolor": "white"
           },
           "yaxis": {
            "backgroundcolor": "#E5ECF6",
            "gridcolor": "white",
            "gridwidth": 2,
            "linecolor": "white",
            "showbackground": true,
            "ticks": "",
            "zerolinecolor": "white"
           },
           "zaxis": {
            "backgroundcolor": "#E5ECF6",
            "gridcolor": "white",
            "gridwidth": 2,
            "linecolor": "white",
            "showbackground": true,
            "ticks": "",
            "zerolinecolor": "white"
           }
          },
          "shapedefaults": {
           "line": {
            "color": "#2a3f5f"
           }
          },
          "ternary": {
           "aaxis": {
            "gridcolor": "white",
            "linecolor": "white",
            "ticks": ""
           },
           "baxis": {
            "gridcolor": "white",
            "linecolor": "white",
            "ticks": ""
           },
           "bgcolor": "#E5ECF6",
           "caxis": {
            "gridcolor": "white",
            "linecolor": "white",
            "ticks": ""
           }
          },
          "title": {
           "x": 0.05
          },
          "xaxis": {
           "automargin": true,
           "gridcolor": "white",
           "linecolor": "white",
           "ticks": "",
           "title": {
            "standoff": 15
           },
           "zerolinecolor": "white",
           "zerolinewidth": 2
          },
          "yaxis": {
           "automargin": true,
           "gridcolor": "white",
           "linecolor": "white",
           "ticks": "",
           "title": {
            "standoff": 15
           },
           "zerolinecolor": "white",
           "zerolinewidth": 2
          }
         }
        },
        "title": {
         "text": "quantize_dequantize_latency by Block Size [100 iterations total latency per blocksize][torch.float32]"
        },
        "width": 1000,
        "xaxis": {
         "anchor": "y",
         "domain": [
          0,
          0.48
         ],
         "tickmode": "array",
         "ticktext": [
          "64",
          "128",
          "256",
          "512",
          "1024",
          "2048",
          "4096"
         ],
         "tickvals": [
          64,
          128,
          256,
          512,
          1024,
          2048,
          4096
         ],
         "title": {
          "text": "Block Size"
         },
         "type": "category"
        },
        "xaxis10": {
         "anchor": "y10",
         "domain": [
          0.5,
          0.98
         ],
         "matches": "x",
         "showticklabels": false,
         "tickmode": "array",
         "ticktext": [
          "64",
          "128",
          "256",
          "512",
          "1024",
          "2048",
          "4096"
         ],
         "tickvals": [
          64,
          128,
          256,
          512,
          1024,
          2048,
          4096
         ],
         "type": "category"
        },
        "xaxis2": {
         "anchor": "y2",
         "domain": [
          0.5,
          0.98
         ],
         "matches": "x",
         "tickmode": "array",
         "ticktext": [
          "64",
          "128",
          "256",
          "512",
          "1024",
          "2048",
          "4096"
         ],
         "tickvals": [
          64,
          128,
          256,
          512,
          1024,
          2048,
          4096
         ],
         "title": {
          "text": "Block Size"
         },
         "type": "category"
        },
        "xaxis3": {
         "anchor": "y3",
         "domain": [
          0,
          0.48
         ],
         "matches": "x",
         "showticklabels": false,
         "tickmode": "array",
         "ticktext": [
          "64",
          "128",
          "256",
          "512",
          "1024",
          "2048",
          "4096"
         ],
         "tickvals": [
          64,
          128,
          256,
          512,
          1024,
          2048,
          4096
         ],
         "type": "category"
        },
        "xaxis4": {
         "anchor": "y4",
         "domain": [
          0.5,
          0.98
         ],
         "matches": "x",
         "showticklabels": false,
         "tickmode": "array",
         "ticktext": [
          "64",
          "128",
          "256",
          "512",
          "1024",
          "2048",
          "4096"
         ],
         "tickvals": [
          64,
          128,
          256,
          512,
          1024,
          2048,
          4096
         ],
         "type": "category"
        },
        "xaxis5": {
         "anchor": "y5",
         "domain": [
          0,
          0.48
         ],
         "matches": "x",
         "showticklabels": false,
         "tickmode": "array",
         "ticktext": [
          "64",
          "128",
          "256",
          "512",
          "1024",
          "2048",
          "4096"
         ],
         "tickvals": [
          64,
          128,
          256,
          512,
          1024,
          2048,
          4096
         ],
         "type": "category"
        },
        "xaxis6": {
         "anchor": "y6",
         "domain": [
          0.5,
          0.98
         ],
         "matches": "x",
         "showticklabels": false,
         "tickmode": "array",
         "ticktext": [
          "64",
          "128",
          "256",
          "512",
          "1024",
          "2048",
          "4096"
         ],
         "tickvals": [
          64,
          128,
          256,
          512,
          1024,
          2048,
          4096
         ],
         "type": "category"
        },
        "xaxis7": {
         "anchor": "y7",
         "domain": [
          0,
          0.48
         ],
         "matches": "x",
         "showticklabels": false,
         "tickmode": "array",
         "ticktext": [
          "64",
          "128",
          "256",
          "512",
          "1024",
          "2048",
          "4096"
         ],
         "tickvals": [
          64,
          128,
          256,
          512,
          1024,
          2048,
          4096
         ],
         "type": "category"
        },
        "xaxis8": {
         "anchor": "y8",
         "domain": [
          0.5,
          0.98
         ],
         "matches": "x",
         "showticklabels": false,
         "tickmode": "array",
         "ticktext": [
          "64",
          "128",
          "256",
          "512",
          "1024",
          "2048",
          "4096"
         ],
         "tickvals": [
          64,
          128,
          256,
          512,
          1024,
          2048,
          4096
         ],
         "type": "category"
        },
        "xaxis9": {
         "anchor": "y9",
         "domain": [
          0,
          0.48
         ],
         "matches": "x",
         "showticklabels": false,
         "tickmode": "array",
         "ticktext": [
          "64",
          "128",
          "256",
          "512",
          "1024",
          "2048",
          "4096"
         ],
         "tickvals": [
          64,
          128,
          256,
          512,
          1024,
          2048,
          4096
         ],
         "type": "category"
        },
        "yaxis": {
         "anchor": "x",
         "domain": [
          0,
          0.17600000000000002
         ],
         "title": {
          "text": ""
         }
        },
        "yaxis10": {
         "anchor": "x10",
         "domain": [
          0.8240000000000001,
          1
         ],
         "showticklabels": false
        },
        "yaxis2": {
         "anchor": "x2",
         "domain": [
          0,
          0.17600000000000002
         ],
         "showticklabels": false
        },
        "yaxis3": {
         "anchor": "x3",
         "domain": [
          0.206,
          0.382
         ],
         "title": {
          "text": ""
         }
        },
        "yaxis4": {
         "anchor": "x4",
         "domain": [
          0.206,
          0.382
         ],
         "showticklabels": false
        },
        "yaxis5": {
         "anchor": "x5",
         "domain": [
          0.412,
          0.5880000000000001
         ],
         "title": {
          "text": ""
         }
        },
        "yaxis6": {
         "anchor": "x6",
         "domain": [
          0.412,
          0.5880000000000001
         ],
         "showticklabels": false
        },
        "yaxis7": {
         "anchor": "x7",
         "domain": [
          0.618,
          0.794
         ],
         "title": {
          "text": ""
         }
        },
        "yaxis8": {
         "anchor": "x8",
         "domain": [
          0.618,
          0.794
         ],
         "showticklabels": false
        },
        "yaxis9": {
         "anchor": "x9",
         "domain": [
          0.8240000000000001,
          1
         ],
         "title": {
          "text": ""
         }
        }
       }
      }
     },
     "metadata": {},
     "output_type": "display_data"
    }
   ],
   "source": [
    "def plot(df, algorithm, dtype):\n",
    "    df = df[df.dtype == dtype]\n",
    "    param = algorithm\n",
    "    fig = px.line(\n",
    "        df,\n",
    "        x=\"blocksize\",\n",
    "        y=param,\n",
    "        color=\"version\",\n",
    "        facet_row=\"tensor_shape\",\n",
    "        facet_col=\"quant_type\",\n",
    "        title=f\"{algorithm} by Block Size [100 iterations total latency per blocksize][{dtype}]\",\n",
    "        labels={param: \"\", \"blocksize\": \"Block Size\", \"tensor_shape\": \"dim\"},\n",
    "    )\n",
    "\n",
    "    fig.add_annotation(\n",
    "        text=f\"Total {algorithm} Time (s)\",\n",
    "        xref=\"paper\",\n",
    "        yref=\"paper\",\n",
    "        x=-0.125,\n",
    "        y=0.5,\n",
    "        showarrow=False,\n",
    "        textangle=-90,\n",
    "        font=dict(size=14),\n",
    "    )\n",
    "\n",
    "    # set discrete x-tick labels using unique blocksize values\n",
    "    blocksize_values = sorted(df[\"blocksize\"].unique())\n",
    "    for axis in fig.layout:\n",
    "        if axis.startswith(\"xaxis\"):\n",
    "            fig.layout[axis].type = \"category\"\n",
    "            fig.layout[axis].tickmode = \"array\"\n",
    "            fig.layout[axis].tickvals = blocksize_values\n",
    "            fig.layout[axis].ticktext = [str(val) for val in blocksize_values]\n",
    "        # elif axis.startswith(\"yaxis\"):\n",
    "        # fig.layout[axis].type = \"log\"\n",
    "\n",
    "    fig.update_yaxes(matches=None)\n",
    "    fig.update_layout(width=1000, height=700)\n",
    "    fig.show()\n",
    "\n",
    "\n",
    "plot(df, \"quantize_dequantize_latency\", \"torch.float32\")"
   ]
  },
  {
   "cell_type": "code",
   "execution_count": 6,
   "id": "66a33436",
   "metadata": {},
   "outputs": [
    {
     "data": {
      "application/vnd.plotly.v1+json": {
       "config": {
        "plotlyServerURL": "https://plot.ly"
       },
       "data": [
        {
         "alignmentgroup": "True",
         "hovertemplate": "version=improved<br>dim=1024<br>quant_type=fp4<br>Block Size=%{x}<br>=%{y}<extra></extra>",
         "legendgroup": "improved",
         "marker": {
          "color": "#1f77b4",
          "pattern": {
           "shape": ""
          }
         },
         "name": "improved",
         "offsetgroup": "improved",
         "orientation": "v",
         "showlegend": true,
         "textposition": "auto",
         "type": "bar",
         "x": [
          64,
          128,
          256,
          512,
          1024,
          2048,
          4096
         ],
         "xaxis": "x9",
         "y": [
          0.0105980509979417,
          0.0102603819977957,
          0.0099561649985844,
          0.0100951839995104,
          0.0099733100068988,
          0.0100562250008806,
          0.0102672229986637
         ],
         "yaxis": "y9"
        },
        {
         "alignmentgroup": "True",
         "hovertemplate": "version=improved<br>dim=1024<br>quant_type=nf4<br>Block Size=%{x}<br>=%{y}<extra></extra>",
         "legendgroup": "improved",
         "marker": {
          "color": "#1f77b4",
          "pattern": {
           "shape": ""
          }
         },
         "name": "improved",
         "offsetgroup": "improved",
         "orientation": "v",
         "showlegend": false,
         "textposition": "auto",
         "type": "bar",
         "x": [
          64,
          128,
          256,
          512,
          1024,
          2048,
          4096
         ],
         "xaxis": "x10",
         "y": [
          0.0103286850062431,
          0.0100636860006488,
          0.0099343119945842,
          0.0097848870063899,
          0.0097747620020527,
          0.0097440149984322,
          0.0098142009956063
         ],
         "yaxis": "y10"
        },
        {
         "alignmentgroup": "True",
         "hovertemplate": "version=improved<br>dim=2048<br>quant_type=fp4<br>Block Size=%{x}<br>=%{y}<extra></extra>",
         "legendgroup": "improved",
         "marker": {
          "color": "#1f77b4",
          "pattern": {
           "shape": ""
          }
         },
         "name": "improved",
         "offsetgroup": "improved",
         "orientation": "v",
         "showlegend": false,
         "textposition": "auto",
         "type": "bar",
         "x": [
          64,
          128,
          256,
          512,
          1024,
          2048,
          4096
         ],
         "xaxis": "x7",
         "y": [
          0.0130752089899033,
          0.0114592070021899,
          0.0106838700012303,
          0.0106855030026054,
          0.0105014760047197,
          0.0105375290004303,
          0.0109728050010744
         ],
         "yaxis": "y7"
        },
        {
         "alignmentgroup": "True",
         "hovertemplate": "version=improved<br>dim=2048<br>quant_type=nf4<br>Block Size=%{x}<br>=%{y}<extra></extra>",
         "legendgroup": "improved",
         "marker": {
          "color": "#1f77b4",
          "pattern": {
           "shape": ""
          }
         },
         "name": "improved",
         "offsetgroup": "improved",
         "orientation": "v",
         "showlegend": false,
         "textposition": "auto",
         "type": "bar",
         "x": [
          64,
          128,
          256,
          512,
          1024,
          2048,
          4096
         ],
         "xaxis": "x8",
         "y": [
          0.0127298089937539,
          0.0111006670049391,
          0.0104999830073211,
          0.0104524519992992,
          0.0102589099988108,
          0.010358701008954,
          0.0107760179962497
         ],
         "yaxis": "y8"
        },
        {
         "alignmentgroup": "True",
         "hovertemplate": "version=improved<br>dim=4096<br>quant_type=fp4<br>Block Size=%{x}<br>=%{y}<extra></extra>",
         "legendgroup": "improved",
         "marker": {
          "color": "#1f77b4",
          "pattern": {
           "shape": ""
          }
         },
         "name": "improved",
         "offsetgroup": "improved",
         "orientation": "v",
         "showlegend": false,
         "textposition": "auto",
         "type": "bar",
         "x": [
          64,
          128,
          256,
          512,
          1024,
          2048,
          4096
         ],
         "xaxis": "x5",
         "y": [
          0.0223378399969078,
          0.0162372579943621,
          0.0132139380002627,
          0.0131437019881559,
          0.0121715089917415,
          0.0123675740032922,
          0.0139840269985143
         ],
         "yaxis": "y5"
        },
        {
         "alignmentgroup": "True",
         "hovertemplate": "version=improved<br>dim=4096<br>quant_type=nf4<br>Block Size=%{x}<br>=%{y}<extra></extra>",
         "legendgroup": "improved",
         "marker": {
          "color": "#1f77b4",
          "pattern": {
           "shape": ""
          }
         },
         "name": "improved",
         "offsetgroup": "improved",
         "orientation": "v",
         "showlegend": false,
         "textposition": "auto",
         "type": "bar",
         "x": [
          64,
          128,
          256,
          512,
          1024,
          2048,
          4096
         ],
         "xaxis": "x6",
         "y": [
          0.0225519520026864,
          0.0158541919954586,
          0.0133519149967469,
          0.013522852997994,
          0.0128616080037318,
          0.0130456949991639,
          0.0144862329907482
         ],
         "yaxis": "y6"
        },
        {
         "alignmentgroup": "True",
         "hovertemplate": "version=improved<br>dim=8192<br>quant_type=fp4<br>Block Size=%{x}<br>=%{y}<extra></extra>",
         "legendgroup": "improved",
         "marker": {
          "color": "#1f77b4",
          "pattern": {
           "shape": ""
          }
         },
         "name": "improved",
         "offsetgroup": "improved",
         "orientation": "v",
         "showlegend": false,
         "textposition": "auto",
         "type": "bar",
         "x": [
          64,
          128,
          256,
          512,
          1024,
          2048,
          4096
         ],
         "xaxis": "x3",
         "y": [
          0.0599750669935019,
          0.0351671899989014,
          0.0279986800014739,
          0.028818433987908,
          0.0278059099946403,
          0.0275185280042933,
          0.0304866939986823
         ],
         "yaxis": "y3"
        },
        {
         "alignmentgroup": "True",
         "hovertemplate": "version=improved<br>dim=8192<br>quant_type=nf4<br>Block Size=%{x}<br>=%{y}<extra></extra>",
         "legendgroup": "improved",
         "marker": {
          "color": "#1f77b4",
          "pattern": {
           "shape": ""
          }
         },
         "name": "improved",
         "offsetgroup": "improved",
         "orientation": "v",
         "showlegend": false,
         "textposition": "auto",
         "type": "bar",
         "x": [
          64,
          128,
          256,
          512,
          1024,
          2048,
          4096
         ],
         "xaxis": "x4",
         "y": [
          0.0596919609961332,
          0.0353271099884295,
          0.0295993899926543,
          0.0301349250075873,
          0.0275913170044077,
          0.0279313490027561,
          0.0332277599954977
         ],
         "yaxis": "y4"
        },
        {
         "alignmentgroup": "True",
         "hovertemplate": "version=improved<br>dim=16384<br>quant_type=fp4<br>Block Size=%{x}<br>=%{y}<extra></extra>",
         "legendgroup": "improved",
         "marker": {
          "color": "#1f77b4",
          "pattern": {
           "shape": ""
          }
         },
         "name": "improved",
         "offsetgroup": "improved",
         "orientation": "v",
         "showlegend": false,
         "textposition": "auto",
         "type": "bar",
         "x": [
          64,
          128,
          256,
          512,
          1024,
          2048,
          4096
         ],
         "xaxis": "x",
         "y": [
          0.2085271289979573,
          0.1078864070004783,
          0.086018474001321,
          0.0841891810123343,
          0.0898980729980394,
          0.0894280349893961,
          0.0899565610015997
         ],
         "yaxis": "y"
        },
        {
         "alignmentgroup": "True",
         "hovertemplate": "version=improved<br>dim=16384<br>quant_type=nf4<br>Block Size=%{x}<br>=%{y}<extra></extra>",
         "legendgroup": "improved",
         "marker": {
          "color": "#1f77b4",
          "pattern": {
           "shape": ""
          }
         },
         "name": "improved",
         "offsetgroup": "improved",
         "orientation": "v",
         "showlegend": false,
         "textposition": "auto",
         "type": "bar",
         "x": [
          64,
          128,
          256,
          512,
          1024,
          2048,
          4096
         ],
         "xaxis": "x2",
         "y": [
          0.208119363989681,
          0.1081433029903564,
          0.0877536659972975,
          0.090072125007282,
          0.0853448999987449,
          0.0843069880065741,
          0.1014866350014926
         ],
         "yaxis": "y2"
        },
        {
         "alignmentgroup": "True",
         "hovertemplate": "version=baseline<br>dim=1024<br>quant_type=fp4<br>Block Size=%{x}<br>=%{y}<extra></extra>",
         "legendgroup": "baseline",
         "marker": {
          "color": "#ff7f0e",
          "pattern": {
           "shape": ""
          }
         },
         "name": "baseline",
         "offsetgroup": "baseline",
         "orientation": "v",
         "showlegend": true,
         "textposition": "auto",
         "type": "bar",
         "x": [
          64,
          128,
          256,
          512,
          1024,
          2048,
          4096
         ],
         "xaxis": "x9",
         "y": [
          0.0109602239972446,
          0.0101300370006356,
          0.0097702160128392,
          0.0097926000016741,
          0.0098373969958629,
          0.0097331199940526,
          0.0098825150053016
         ],
         "yaxis": "y9"
        },
        {
         "alignmentgroup": "True",
         "hovertemplate": "version=baseline<br>dim=1024<br>quant_type=nf4<br>Block Size=%{x}<br>=%{y}<extra></extra>",
         "legendgroup": "baseline",
         "marker": {
          "color": "#ff7f0e",
          "pattern": {
           "shape": ""
          }
         },
         "name": "baseline",
         "offsetgroup": "baseline",
         "orientation": "v",
         "showlegend": false,
         "textposition": "auto",
         "type": "bar",
         "x": [
          64,
          128,
          256,
          512,
          1024,
          2048,
          4096
         ],
         "xaxis": "x10",
         "y": [
          0.0103725410008337,
          0.0100606930063804,
          0.009893002003082,
          0.0097572869999567,
          0.0096982980030588,
          0.0097675120050553,
          0.0097484339930815
         ],
         "yaxis": "y10"
        },
        {
         "alignmentgroup": "True",
         "hovertemplate": "version=baseline<br>dim=2048<br>quant_type=fp4<br>Block Size=%{x}<br>=%{y}<extra></extra>",
         "legendgroup": "baseline",
         "marker": {
          "color": "#ff7f0e",
          "pattern": {
           "shape": ""
          }
         },
         "name": "baseline",
         "offsetgroup": "baseline",
         "orientation": "v",
         "showlegend": false,
         "textposition": "auto",
         "type": "bar",
         "x": [
          64,
          128,
          256,
          512,
          1024,
          2048,
          4096
         ],
         "xaxis": "x7",
         "y": [
          0.0127539990062359,
          0.0111034989968175,
          0.0104240979999303,
          0.0104689759900793,
          0.0102691359934397,
          0.0103211940004257,
          0.0107715510093839
         ],
         "yaxis": "y7"
        },
        {
         "alignmentgroup": "True",
         "hovertemplate": "version=baseline<br>dim=2048<br>quant_type=nf4<br>Block Size=%{x}<br>=%{y}<extra></extra>",
         "legendgroup": "baseline",
         "marker": {
          "color": "#ff7f0e",
          "pattern": {
           "shape": ""
          }
         },
         "name": "baseline",
         "offsetgroup": "baseline",
         "orientation": "v",
         "showlegend": false,
         "textposition": "auto",
         "type": "bar",
         "x": [
          64,
          128,
          256,
          512,
          1024,
          2048,
          4096
         ],
         "xaxis": "x8",
         "y": [
          0.0128047949983738,
          0.0111272650101454,
          0.0105104079993907,
          0.0105017960013356,
          0.0102644700091332,
          0.0103388110001105,
          0.0107438300037756
         ],
         "yaxis": "y8"
        },
        {
         "alignmentgroup": "True",
         "hovertemplate": "version=baseline<br>dim=4096<br>quant_type=fp4<br>Block Size=%{x}<br>=%{y}<extra></extra>",
         "legendgroup": "baseline",
         "marker": {
          "color": "#ff7f0e",
          "pattern": {
           "shape": ""
          }
         },
         "name": "baseline",
         "offsetgroup": "baseline",
         "orientation": "v",
         "showlegend": false,
         "textposition": "auto",
         "type": "bar",
         "x": [
          64,
          128,
          256,
          512,
          1024,
          2048,
          4096
         ],
         "xaxis": "x5",
         "y": [
          0.0221383049938594,
          0.0158484370040241,
          0.013001751009142,
          0.013153088002582,
          0.0120800069998949,
          0.0125105940096545,
          0.0140048979956191
         ],
         "yaxis": "y5"
        },
        {
         "alignmentgroup": "True",
         "hovertemplate": "version=baseline<br>dim=4096<br>quant_type=nf4<br>Block Size=%{x}<br>=%{y}<extra></extra>",
         "legendgroup": "baseline",
         "marker": {
          "color": "#ff7f0e",
          "pattern": {
           "shape": ""
          }
         },
         "name": "baseline",
         "offsetgroup": "baseline",
         "orientation": "v",
         "showlegend": false,
         "textposition": "auto",
         "type": "bar",
         "x": [
          64,
          128,
          256,
          512,
          1024,
          2048,
          4096
         ],
         "xaxis": "x6",
         "y": [
          0.02215942699695,
          0.0159816069935914,
          0.0131949209899175,
          0.0133315670100273,
          0.0123824210022576,
          0.0126664580020587,
          0.0142176579975057
         ],
         "yaxis": "y6"
        },
        {
         "alignmentgroup": "True",
         "hovertemplate": "version=baseline<br>dim=8192<br>quant_type=fp4<br>Block Size=%{x}<br>=%{y}<extra></extra>",
         "legendgroup": "baseline",
         "marker": {
          "color": "#ff7f0e",
          "pattern": {
           "shape": ""
          }
         },
         "name": "baseline",
         "offsetgroup": "baseline",
         "orientation": "v",
         "showlegend": false,
         "textposition": "auto",
         "type": "bar",
         "x": [
          64,
          128,
          256,
          512,
          1024,
          2048,
          4096
         ],
         "xaxis": "x3",
         "y": [
          0.0598729079938493,
          0.0349800459953257,
          0.028702706011245,
          0.0292302290035877,
          0.0274564440042013,
          0.0274108859885018,
          0.031437334997463
         ],
         "yaxis": "y3"
        },
        {
         "alignmentgroup": "True",
         "hovertemplate": "version=baseline<br>dim=8192<br>quant_type=nf4<br>Block Size=%{x}<br>=%{y}<extra></extra>",
         "legendgroup": "baseline",
         "marker": {
          "color": "#ff7f0e",
          "pattern": {
           "shape": ""
          }
         },
         "name": "baseline",
         "offsetgroup": "baseline",
         "orientation": "v",
         "showlegend": false,
         "textposition": "auto",
         "type": "bar",
         "x": [
          64,
          128,
          256,
          512,
          1024,
          2048,
          4096
         ],
         "xaxis": "x4",
         "y": [
          0.0599686329951509,
          0.0351377930055605,
          0.0289859519980382,
          0.0295235800003865,
          0.0275035850063432,
          0.0272934000095119,
          0.0322532199934357
         ],
         "yaxis": "y4"
        },
        {
         "alignmentgroup": "True",
         "hovertemplate": "version=baseline<br>dim=16384<br>quant_type=fp4<br>Block Size=%{x}<br>=%{y}<extra></extra>",
         "legendgroup": "baseline",
         "marker": {
          "color": "#ff7f0e",
          "pattern": {
           "shape": ""
          }
         },
         "name": "baseline",
         "offsetgroup": "baseline",
         "orientation": "v",
         "showlegend": false,
         "textposition": "auto",
         "type": "bar",
         "x": [
          64,
          128,
          256,
          512,
          1024,
          2048,
          4096
         ],
         "xaxis": "x",
         "y": [
          0.2079458380030701,
          0.1078778200026135,
          0.0844090360042173,
          0.0863294220034731,
          0.0881750639964593,
          0.0882290750014362,
          0.0943722429947229
         ],
         "yaxis": "y"
        },
        {
         "alignmentgroup": "True",
         "hovertemplate": "version=baseline<br>dim=16384<br>quant_type=nf4<br>Block Size=%{x}<br>=%{y}<extra></extra>",
         "legendgroup": "baseline",
         "marker": {
          "color": "#ff7f0e",
          "pattern": {
           "shape": ""
          }
         },
         "name": "baseline",
         "offsetgroup": "baseline",
         "orientation": "v",
         "showlegend": false,
         "textposition": "auto",
         "type": "bar",
         "x": [
          64,
          128,
          256,
          512,
          1024,
          2048,
          4096
         ],
         "xaxis": "x2",
         "y": [
          0.2084719020058401,
          0.1082805970072513,
          0.0854345380066661,
          0.0878690550016472,
          0.0882621769997058,
          0.0893166710011428,
          0.0979576910031028
         ],
         "yaxis": "y2"
        }
       ],
       "layout": {
        "annotations": [
         {
          "showarrow": false,
          "text": "quant_type=fp4",
          "x": 0.24,
          "xanchor": "center",
          "xref": "paper",
          "y": 1,
          "yanchor": "bottom",
          "yref": "paper"
         },
         {
          "showarrow": false,
          "text": "quant_type=nf4",
          "x": 0.74,
          "xanchor": "center",
          "xref": "paper",
          "y": 1,
          "yanchor": "bottom",
          "yref": "paper"
         },
         {
          "showarrow": false,
          "text": "dim=16384",
          "textangle": 90,
          "x": 0.98,
          "xanchor": "left",
          "xref": "paper",
          "y": 0.08800000000000001,
          "yanchor": "middle",
          "yref": "paper"
         },
         {
          "showarrow": false,
          "text": "dim=8192",
          "textangle": 90,
          "x": 0.98,
          "xanchor": "left",
          "xref": "paper",
          "y": 0.29400000000000004,
          "yanchor": "middle",
          "yref": "paper"
         },
         {
          "showarrow": false,
          "text": "dim=4096",
          "textangle": 90,
          "x": 0.98,
          "xanchor": "left",
          "xref": "paper",
          "y": 0.5,
          "yanchor": "middle",
          "yref": "paper"
         },
         {
          "showarrow": false,
          "text": "dim=2048",
          "textangle": 90,
          "x": 0.98,
          "xanchor": "left",
          "xref": "paper",
          "y": 0.706,
          "yanchor": "middle",
          "yref": "paper"
         },
         {
          "showarrow": false,
          "text": "dim=1024",
          "textangle": 90,
          "x": 0.98,
          "xanchor": "left",
          "xref": "paper",
          "y": 0.912,
          "yanchor": "middle",
          "yref": "paper"
         },
         {
          "font": {
           "size": 14
          },
          "showarrow": false,
          "text": "Total quantize_latency Time (s)",
          "textangle": -90,
          "x": -0.1,
          "xref": "paper",
          "y": 0.5,
          "yref": "paper"
         }
        ],
        "barmode": "group",
        "height": 800,
        "legend": {
         "title": {
          "text": "version"
         },
         "tracegroupgap": 0
        },
        "template": {
         "data": {
          "bar": [
           {
            "error_x": {
             "color": "#2a3f5f"
            },
            "error_y": {
             "color": "#2a3f5f"
            },
            "marker": {
             "line": {
              "color": "#E5ECF6",
              "width": 0.5
             },
             "pattern": {
              "fillmode": "overlay",
              "size": 10,
              "solidity": 0.2
             }
            },
            "type": "bar"
           }
          ],
          "barpolar": [
           {
            "marker": {
             "line": {
              "color": "#E5ECF6",
              "width": 0.5
             },
             "pattern": {
              "fillmode": "overlay",
              "size": 10,
              "solidity": 0.2
             }
            },
            "type": "barpolar"
           }
          ],
          "carpet": [
           {
            "aaxis": {
             "endlinecolor": "#2a3f5f",
             "gridcolor": "white",
             "linecolor": "white",
             "minorgridcolor": "white",
             "startlinecolor": "#2a3f5f"
            },
            "baxis": {
             "endlinecolor": "#2a3f5f",
             "gridcolor": "white",
             "linecolor": "white",
             "minorgridcolor": "white",
             "startlinecolor": "#2a3f5f"
            },
            "type": "carpet"
           }
          ],
          "choropleth": [
           {
            "colorbar": {
             "outlinewidth": 0,
             "ticks": ""
            },
            "type": "choropleth"
           }
          ],
          "contour": [
           {
            "colorbar": {
             "outlinewidth": 0,
             "ticks": ""
            },
            "colorscale": [
             [
              0,
              "#0d0887"
             ],
             [
              0.1111111111111111,
              "#46039f"
             ],
             [
              0.2222222222222222,
              "#7201a8"
             ],
             [
              0.3333333333333333,
              "#9c179e"
             ],
             [
              0.4444444444444444,
              "#bd3786"
             ],
             [
              0.5555555555555556,
              "#d8576b"
             ],
             [
              0.6666666666666666,
              "#ed7953"
             ],
             [
              0.7777777777777778,
              "#fb9f3a"
             ],
             [
              0.8888888888888888,
              "#fdca26"
             ],
             [
              1,
              "#f0f921"
             ]
            ],
            "type": "contour"
           }
          ],
          "contourcarpet": [
           {
            "colorbar": {
             "outlinewidth": 0,
             "ticks": ""
            },
            "type": "contourcarpet"
           }
          ],
          "heatmap": [
           {
            "colorbar": {
             "outlinewidth": 0,
             "ticks": ""
            },
            "colorscale": [
             [
              0,
              "#0d0887"
             ],
             [
              0.1111111111111111,
              "#46039f"
             ],
             [
              0.2222222222222222,
              "#7201a8"
             ],
             [
              0.3333333333333333,
              "#9c179e"
             ],
             [
              0.4444444444444444,
              "#bd3786"
             ],
             [
              0.5555555555555556,
              "#d8576b"
             ],
             [
              0.6666666666666666,
              "#ed7953"
             ],
             [
              0.7777777777777778,
              "#fb9f3a"
             ],
             [
              0.8888888888888888,
              "#fdca26"
             ],
             [
              1,
              "#f0f921"
             ]
            ],
            "type": "heatmap"
           }
          ],
          "heatmapgl": [
           {
            "colorbar": {
             "outlinewidth": 0,
             "ticks": ""
            },
            "colorscale": [
             [
              0,
              "#0d0887"
             ],
             [
              0.1111111111111111,
              "#46039f"
             ],
             [
              0.2222222222222222,
              "#7201a8"
             ],
             [
              0.3333333333333333,
              "#9c179e"
             ],
             [
              0.4444444444444444,
              "#bd3786"
             ],
             [
              0.5555555555555556,
              "#d8576b"
             ],
             [
              0.6666666666666666,
              "#ed7953"
             ],
             [
              0.7777777777777778,
              "#fb9f3a"
             ],
             [
              0.8888888888888888,
              "#fdca26"
             ],
             [
              1,
              "#f0f921"
             ]
            ],
            "type": "heatmapgl"
           }
          ],
          "histogram": [
           {
            "marker": {
             "pattern": {
              "fillmode": "overlay",
              "size": 10,
              "solidity": 0.2
             }
            },
            "type": "histogram"
           }
          ],
          "histogram2d": [
           {
            "colorbar": {
             "outlinewidth": 0,
             "ticks": ""
            },
            "colorscale": [
             [
              0,
              "#0d0887"
             ],
             [
              0.1111111111111111,
              "#46039f"
             ],
             [
              0.2222222222222222,
              "#7201a8"
             ],
             [
              0.3333333333333333,
              "#9c179e"
             ],
             [
              0.4444444444444444,
              "#bd3786"
             ],
             [
              0.5555555555555556,
              "#d8576b"
             ],
             [
              0.6666666666666666,
              "#ed7953"
             ],
             [
              0.7777777777777778,
              "#fb9f3a"
             ],
             [
              0.8888888888888888,
              "#fdca26"
             ],
             [
              1,
              "#f0f921"
             ]
            ],
            "type": "histogram2d"
           }
          ],
          "histogram2dcontour": [
           {
            "colorbar": {
             "outlinewidth": 0,
             "ticks": ""
            },
            "colorscale": [
             [
              0,
              "#0d0887"
             ],
             [
              0.1111111111111111,
              "#46039f"
             ],
             [
              0.2222222222222222,
              "#7201a8"
             ],
             [
              0.3333333333333333,
              "#9c179e"
             ],
             [
              0.4444444444444444,
              "#bd3786"
             ],
             [
              0.5555555555555556,
              "#d8576b"
             ],
             [
              0.6666666666666666,
              "#ed7953"
             ],
             [
              0.7777777777777778,
              "#fb9f3a"
             ],
             [
              0.8888888888888888,
              "#fdca26"
             ],
             [
              1,
              "#f0f921"
             ]
            ],
            "type": "histogram2dcontour"
           }
          ],
          "mesh3d": [
           {
            "colorbar": {
             "outlinewidth": 0,
             "ticks": ""
            },
            "type": "mesh3d"
           }
          ],
          "parcoords": [
           {
            "line": {
             "colorbar": {
              "outlinewidth": 0,
              "ticks": ""
             }
            },
            "type": "parcoords"
           }
          ],
          "pie": [
           {
            "automargin": true,
            "type": "pie"
           }
          ],
          "scatter": [
           {
            "fillpattern": {
             "fillmode": "overlay",
             "size": 10,
             "solidity": 0.2
            },
            "type": "scatter"
           }
          ],
          "scatter3d": [
           {
            "line": {
             "colorbar": {
              "outlinewidth": 0,
              "ticks": ""
             }
            },
            "marker": {
             "colorbar": {
              "outlinewidth": 0,
              "ticks": ""
             }
            },
            "type": "scatter3d"
           }
          ],
          "scattercarpet": [
           {
            "marker": {
             "colorbar": {
              "outlinewidth": 0,
              "ticks": ""
             }
            },
            "type": "scattercarpet"
           }
          ],
          "scattergeo": [
           {
            "marker": {
             "colorbar": {
              "outlinewidth": 0,
              "ticks": ""
             }
            },
            "type": "scattergeo"
           }
          ],
          "scattergl": [
           {
            "marker": {
             "colorbar": {
              "outlinewidth": 0,
              "ticks": ""
             }
            },
            "type": "scattergl"
           }
          ],
          "scattermapbox": [
           {
            "marker": {
             "colorbar": {
              "outlinewidth": 0,
              "ticks": ""
             }
            },
            "type": "scattermapbox"
           }
          ],
          "scatterpolar": [
           {
            "marker": {
             "colorbar": {
              "outlinewidth": 0,
              "ticks": ""
             }
            },
            "type": "scatterpolar"
           }
          ],
          "scatterpolargl": [
           {
            "marker": {
             "colorbar": {
              "outlinewidth": 0,
              "ticks": ""
             }
            },
            "type": "scatterpolargl"
           }
          ],
          "scatterternary": [
           {
            "marker": {
             "colorbar": {
              "outlinewidth": 0,
              "ticks": ""
             }
            },
            "type": "scatterternary"
           }
          ],
          "surface": [
           {
            "colorbar": {
             "outlinewidth": 0,
             "ticks": ""
            },
            "colorscale": [
             [
              0,
              "#0d0887"
             ],
             [
              0.1111111111111111,
              "#46039f"
             ],
             [
              0.2222222222222222,
              "#7201a8"
             ],
             [
              0.3333333333333333,
              "#9c179e"
             ],
             [
              0.4444444444444444,
              "#bd3786"
             ],
             [
              0.5555555555555556,
              "#d8576b"
             ],
             [
              0.6666666666666666,
              "#ed7953"
             ],
             [
              0.7777777777777778,
              "#fb9f3a"
             ],
             [
              0.8888888888888888,
              "#fdca26"
             ],
             [
              1,
              "#f0f921"
             ]
            ],
            "type": "surface"
           }
          ],
          "table": [
           {
            "cells": {
             "fill": {
              "color": "#EBF0F8"
             },
             "line": {
              "color": "white"
             }
            },
            "header": {
             "fill": {
              "color": "#C8D4E3"
             },
             "line": {
              "color": "white"
             }
            },
            "type": "table"
           }
          ]
         },
         "layout": {
          "annotationdefaults": {
           "arrowcolor": "#2a3f5f",
           "arrowhead": 0,
           "arrowwidth": 1
          },
          "autotypenumbers": "strict",
          "coloraxis": {
           "colorbar": {
            "outlinewidth": 0,
            "ticks": ""
           }
          },
          "colorscale": {
           "diverging": [
            [
             0,
             "#8e0152"
            ],
            [
             0.1,
             "#c51b7d"
            ],
            [
             0.2,
             "#de77ae"
            ],
            [
             0.3,
             "#f1b6da"
            ],
            [
             0.4,
             "#fde0ef"
            ],
            [
             0.5,
             "#f7f7f7"
            ],
            [
             0.6,
             "#e6f5d0"
            ],
            [
             0.7,
             "#b8e186"
            ],
            [
             0.8,
             "#7fbc41"
            ],
            [
             0.9,
             "#4d9221"
            ],
            [
             1,
             "#276419"
            ]
           ],
           "sequential": [
            [
             0,
             "#0d0887"
            ],
            [
             0.1111111111111111,
             "#46039f"
            ],
            [
             0.2222222222222222,
             "#7201a8"
            ],
            [
             0.3333333333333333,
             "#9c179e"
            ],
            [
             0.4444444444444444,
             "#bd3786"
            ],
            [
             0.5555555555555556,
             "#d8576b"
            ],
            [
             0.6666666666666666,
             "#ed7953"
            ],
            [
             0.7777777777777778,
             "#fb9f3a"
            ],
            [
             0.8888888888888888,
             "#fdca26"
            ],
            [
             1,
             "#f0f921"
            ]
           ],
           "sequentialminus": [
            [
             0,
             "#0d0887"
            ],
            [
             0.1111111111111111,
             "#46039f"
            ],
            [
             0.2222222222222222,
             "#7201a8"
            ],
            [
             0.3333333333333333,
             "#9c179e"
            ],
            [
             0.4444444444444444,
             "#bd3786"
            ],
            [
             0.5555555555555556,
             "#d8576b"
            ],
            [
             0.6666666666666666,
             "#ed7953"
            ],
            [
             0.7777777777777778,
             "#fb9f3a"
            ],
            [
             0.8888888888888888,
             "#fdca26"
            ],
            [
             1,
             "#f0f921"
            ]
           ]
          },
          "colorway": [
           "#636efa",
           "#EF553B",
           "#00cc96",
           "#ab63fa",
           "#FFA15A",
           "#19d3f3",
           "#FF6692",
           "#B6E880",
           "#FF97FF",
           "#FECB52"
          ],
          "font": {
           "color": "#2a3f5f"
          },
          "geo": {
           "bgcolor": "white",
           "lakecolor": "white",
           "landcolor": "#E5ECF6",
           "showlakes": true,
           "showland": true,
           "subunitcolor": "white"
          },
          "hoverlabel": {
           "align": "left"
          },
          "hovermode": "closest",
          "mapbox": {
           "style": "light"
          },
          "paper_bgcolor": "white",
          "plot_bgcolor": "#E5ECF6",
          "polar": {
           "angularaxis": {
            "gridcolor": "white",
            "linecolor": "white",
            "ticks": ""
           },
           "bgcolor": "#E5ECF6",
           "radialaxis": {
            "gridcolor": "white",
            "linecolor": "white",
            "ticks": ""
           }
          },
          "scene": {
           "xaxis": {
            "backgroundcolor": "#E5ECF6",
            "gridcolor": "white",
            "gridwidth": 2,
            "linecolor": "white",
            "showbackground": true,
            "ticks": "",
            "zerolinecolor": "white"
           },
           "yaxis": {
            "backgroundcolor": "#E5ECF6",
            "gridcolor": "white",
            "gridwidth": 2,
            "linecolor": "white",
            "showbackground": true,
            "ticks": "",
            "zerolinecolor": "white"
           },
           "zaxis": {
            "backgroundcolor": "#E5ECF6",
            "gridcolor": "white",
            "gridwidth": 2,
            "linecolor": "white",
            "showbackground": true,
            "ticks": "",
            "zerolinecolor": "white"
           }
          },
          "shapedefaults": {
           "line": {
            "color": "#2a3f5f"
           }
          },
          "ternary": {
           "aaxis": {
            "gridcolor": "white",
            "linecolor": "white",
            "ticks": ""
           },
           "baxis": {
            "gridcolor": "white",
            "linecolor": "white",
            "ticks": ""
           },
           "bgcolor": "#E5ECF6",
           "caxis": {
            "gridcolor": "white",
            "linecolor": "white",
            "ticks": ""
           }
          },
          "title": {
           "x": 0.05
          },
          "xaxis": {
           "automargin": true,
           "gridcolor": "white",
           "linecolor": "white",
           "ticks": "",
           "title": {
            "standoff": 15
           },
           "zerolinecolor": "white",
           "zerolinewidth": 2
          },
          "yaxis": {
           "automargin": true,
           "gridcolor": "white",
           "linecolor": "white",
           "ticks": "",
           "title": {
            "standoff": 15
           },
           "zerolinecolor": "white",
           "zerolinewidth": 2
          }
         }
        },
        "title": {
         "text": "quantize_latency by Block Size [100 iterations total][torch.float32]"
        },
        "width": 1200,
        "xaxis": {
         "anchor": "y",
         "domain": [
          0,
          0.48
         ],
         "tickmode": "array",
         "ticktext": [
          "64",
          "128",
          "256",
          "512",
          "1024",
          "2048",
          "4096"
         ],
         "tickvals": [
          64,
          128,
          256,
          512,
          1024,
          2048,
          4096
         ],
         "title": {
          "text": "Block Size"
         },
         "type": "category"
        },
        "xaxis10": {
         "anchor": "y10",
         "domain": [
          0.5,
          0.98
         ],
         "matches": "x",
         "showticklabels": false,
         "tickmode": "array",
         "ticktext": [
          "64",
          "128",
          "256",
          "512",
          "1024",
          "2048",
          "4096"
         ],
         "tickvals": [
          64,
          128,
          256,
          512,
          1024,
          2048,
          4096
         ],
         "type": "category"
        },
        "xaxis2": {
         "anchor": "y2",
         "domain": [
          0.5,
          0.98
         ],
         "matches": "x",
         "tickmode": "array",
         "ticktext": [
          "64",
          "128",
          "256",
          "512",
          "1024",
          "2048",
          "4096"
         ],
         "tickvals": [
          64,
          128,
          256,
          512,
          1024,
          2048,
          4096
         ],
         "title": {
          "text": "Block Size"
         },
         "type": "category"
        },
        "xaxis3": {
         "anchor": "y3",
         "domain": [
          0,
          0.48
         ],
         "matches": "x",
         "showticklabels": false,
         "tickmode": "array",
         "ticktext": [
          "64",
          "128",
          "256",
          "512",
          "1024",
          "2048",
          "4096"
         ],
         "tickvals": [
          64,
          128,
          256,
          512,
          1024,
          2048,
          4096
         ],
         "type": "category"
        },
        "xaxis4": {
         "anchor": "y4",
         "domain": [
          0.5,
          0.98
         ],
         "matches": "x",
         "showticklabels": false,
         "tickmode": "array",
         "ticktext": [
          "64",
          "128",
          "256",
          "512",
          "1024",
          "2048",
          "4096"
         ],
         "tickvals": [
          64,
          128,
          256,
          512,
          1024,
          2048,
          4096
         ],
         "type": "category"
        },
        "xaxis5": {
         "anchor": "y5",
         "domain": [
          0,
          0.48
         ],
         "matches": "x",
         "showticklabels": false,
         "tickmode": "array",
         "ticktext": [
          "64",
          "128",
          "256",
          "512",
          "1024",
          "2048",
          "4096"
         ],
         "tickvals": [
          64,
          128,
          256,
          512,
          1024,
          2048,
          4096
         ],
         "type": "category"
        },
        "xaxis6": {
         "anchor": "y6",
         "domain": [
          0.5,
          0.98
         ],
         "matches": "x",
         "showticklabels": false,
         "tickmode": "array",
         "ticktext": [
          "64",
          "128",
          "256",
          "512",
          "1024",
          "2048",
          "4096"
         ],
         "tickvals": [
          64,
          128,
          256,
          512,
          1024,
          2048,
          4096
         ],
         "type": "category"
        },
        "xaxis7": {
         "anchor": "y7",
         "domain": [
          0,
          0.48
         ],
         "matches": "x",
         "showticklabels": false,
         "tickmode": "array",
         "ticktext": [
          "64",
          "128",
          "256",
          "512",
          "1024",
          "2048",
          "4096"
         ],
         "tickvals": [
          64,
          128,
          256,
          512,
          1024,
          2048,
          4096
         ],
         "type": "category"
        },
        "xaxis8": {
         "anchor": "y8",
         "domain": [
          0.5,
          0.98
         ],
         "matches": "x",
         "showticklabels": false,
         "tickmode": "array",
         "ticktext": [
          "64",
          "128",
          "256",
          "512",
          "1024",
          "2048",
          "4096"
         ],
         "tickvals": [
          64,
          128,
          256,
          512,
          1024,
          2048,
          4096
         ],
         "type": "category"
        },
        "xaxis9": {
         "anchor": "y9",
         "domain": [
          0,
          0.48
         ],
         "matches": "x",
         "showticklabels": false,
         "tickmode": "array",
         "ticktext": [
          "64",
          "128",
          "256",
          "512",
          "1024",
          "2048",
          "4096"
         ],
         "tickvals": [
          64,
          128,
          256,
          512,
          1024,
          2048,
          4096
         ],
         "type": "category"
        },
        "yaxis": {
         "anchor": "x",
         "domain": [
          0,
          0.17600000000000002
         ],
         "title": {
          "text": ""
         },
         "type": "log"
        },
        "yaxis10": {
         "anchor": "x10",
         "domain": [
          0.8240000000000001,
          1
         ],
         "showticklabels": false,
         "type": "log"
        },
        "yaxis2": {
         "anchor": "x2",
         "domain": [
          0,
          0.17600000000000002
         ],
         "showticklabels": false,
         "type": "log"
        },
        "yaxis3": {
         "anchor": "x3",
         "domain": [
          0.206,
          0.382
         ],
         "title": {
          "text": ""
         },
         "type": "log"
        },
        "yaxis4": {
         "anchor": "x4",
         "domain": [
          0.206,
          0.382
         ],
         "showticklabels": false,
         "type": "log"
        },
        "yaxis5": {
         "anchor": "x5",
         "domain": [
          0.412,
          0.5880000000000001
         ],
         "title": {
          "text": ""
         },
         "type": "log"
        },
        "yaxis6": {
         "anchor": "x6",
         "domain": [
          0.412,
          0.5880000000000001
         ],
         "showticklabels": false,
         "type": "log"
        },
        "yaxis7": {
         "anchor": "x7",
         "domain": [
          0.618,
          0.794
         ],
         "title": {
          "text": ""
         },
         "type": "log"
        },
        "yaxis8": {
         "anchor": "x8",
         "domain": [
          0.618,
          0.794
         ],
         "showticklabels": false,
         "type": "log"
        },
        "yaxis9": {
         "anchor": "x9",
         "domain": [
          0.8240000000000001,
          1
         ],
         "title": {
          "text": ""
         },
         "type": "log"
        }
       }
      }
     },
     "metadata": {},
     "output_type": "display_data"
    }
   ],
   "source": [
    "def plot(df, algorithm, dtype):\n",
    "    param = algorithm\n",
    "    df = df[df.dtype == dtype]\n",
    "\n",
    "    # Define a custom color palette (modify as needed)\n",
    "    custom_colors = [\"#1f77b4\", \"#ff7f0e\", \"#2ca02c\", \"#d62728\", \"#9467bd\"]\n",
    "\n",
    "    fig = px.bar(\n",
    "        df,\n",
    "        x=\"blocksize\",\n",
    "        y=param,\n",
    "        color=\"version\",\n",
    "        facet_row=\"tensor_shape\",\n",
    "        facet_col=\"quant_type\",\n",
    "        barmode=\"group\",\n",
    "        title=f\"{algorithm} by Block Size [100 iterations total][{dtype}]\",  # \\n(lower is better)\",\n",
    "        labels={param: \"\", \"blocksize\": \"Block Size\", \"tensor_shape\": \"dim\"},\n",
    "        color_discrete_sequence=custom_colors,\n",
    "    )\n",
    "\n",
    "    fig.add_annotation(\n",
    "        text=f\"Total {algorithm} Time (s)\",\n",
    "        xref=\"paper\",\n",
    "        yref=\"paper\",\n",
    "        x=-0.1,\n",
    "        y=0.5,\n",
    "        showarrow=False,\n",
    "        textangle=-90,\n",
    "        font=dict(size=14),\n",
    "    )\n",
    "\n",
    "    # set discrete x-tick labels using unique blocksize values\n",
    "    blocksize_values = sorted(df[\"blocksize\"].unique())\n",
    "    for axis in fig.layout:\n",
    "        if axis.startswith(\"xaxis\"):\n",
    "            fig.layout[axis].type = \"category\"\n",
    "            fig.layout[axis].tickmode = \"array\"\n",
    "            fig.layout[axis].tickvals = blocksize_values\n",
    "            fig.layout[axis].ticktext = [str(val) for val in blocksize_values]\n",
    "        elif axis.startswith(\"yaxis\"):\n",
    "            fig.layout[axis].type = \"log\"\n",
    "\n",
    "    fig.update_yaxes(matches=None)\n",
    "    fig.update_layout(width=1200, height=800)\n",
    "    fig.show()\n",
    "\n",
    "\n",
    "plot(df, \"quantize_latency\", \"torch.float32\")"
   ]
  },
  {
   "cell_type": "code",
   "execution_count": 7,
   "id": "2ea9b0f1",
   "metadata": {},
   "outputs": [],
   "source": [
    "# cols = [\n",
    "#     \"total_quantize_dequantize_time\",\n",
    "#     \"total_quantize_dequantize_interleaved_time\",\n",
    "#     \"total_quantize_time\",\n",
    "#     \"total_dequantize_time\",\n",
    "# ]\n",
    "\n",
    "# diff = (df_baseline[cols] - df_improved[cols]) / df_baseline[cols] * 100\n",
    "# diff[\"blocksize\"] = df_baseline[\"blocksize\"]\n",
    "# diff[\"tensor_shape\"] = df_baseline[\"tensor_shape\"]\n",
    "# diff = diff[\n",
    "#     [\n",
    "#         \"tensor_shape\",\n",
    "#         \"blocksize\",\n",
    "#         \"total_quantize_dequantize_time\",\n",
    "#         \"total_quantize_dequantize_interleaved_time\",\n",
    "#         \"total_quantize_time\",\n",
    "#         \"total_dequantize_time\",\n",
    "#     ]\n",
    "# ]\n",
    "# diff.sort_values(by=[\"tensor_shape\", \"blocksize\"])"
   ]
  }
 ],
 "metadata": {
  "kernelspec": {
   "display_name": "Python 3",
   "language": "python",
   "name": "python3"
  },
  "language_info": {
   "codemirror_mode": {
    "name": "ipython",
    "version": 3
   },
   "file_extension": ".py",
   "mimetype": "text/x-python",
   "name": "python",
   "nbconvert_exporter": "python",
   "pygments_lexer": "ipython3",
   "version": "3.9.5"
  }
 },
 "nbformat": 4,
 "nbformat_minor": 5
}
